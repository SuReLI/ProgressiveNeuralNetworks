{
 "cells": [
  {
   "cell_type": "code",
   "execution_count": 89,
   "metadata": {},
   "outputs": [],
   "source": [
    "import torch \n",
    "import torch.nn as nn \n",
    "import torch.nn.functional as F \n",
    "import torch.optim as optim\n",
    "import torchvision\n",
    "import copy\n",
    "import numpy as np\n",
    "import matplotlib.pyplot as plt\n",
    "%matplotlib inline\n",
    "plt.rcParams['figure.figsize'] = [10, 5]"
   ]
  },
  {
   "cell_type": "code",
   "execution_count": 90,
   "metadata": {},
   "outputs": [
    {
     "name": "stdout",
     "output_type": "stream",
     "text": [
      "cuda:0\n"
     ]
    }
   ],
   "source": [
    "GPU = True\n",
    "device_idx = 0\n",
    "if GPU:\n",
    "    device = torch.device(\"cuda:\" + str(device_idx) if torch.cuda.is_available() else \"cpu\")\n",
    "else:\n",
    "    device = torch.device(\"cpu\")\n",
    "print(device)"
   ]
  },
  {
   "cell_type": "code",
   "execution_count": 108,
   "metadata": {},
   "outputs": [],
   "source": [
    "class LateralBlock(nn.Module):\n",
    "    def __init__(self,col,depth,block,out_shape, in_shapes):\n",
    "        super(LateralBlock,self).__init__()\n",
    "        self.col = col\n",
    "        self.depth = depth \n",
    "        self.out_shape = out_shape\n",
    "        self.block = block\n",
    "        self.u = nn.ModuleList()\n",
    "        \n",
    "        \n",
    "        if self.depth > 0: \n",
    "            self.u.extend([nn.Linear(in_shape,self.out_shape) for in_shape in in_shapes])\n",
    "\n",
    "\n",
    "    def forward(self,inputs):\n",
    "        if not isinstance(inputs, list):\n",
    "            inputs = [inputs]\n",
    "\n",
    "        cur_column_out = self.block(inputs[-1])\n",
    "        prev_columns_out = [mod(x) for mod, x in zip(self.u, inputs)]\n",
    "        res=  F.relu(cur_column_out + sum(prev_columns_out))\n",
    "        return res\n",
    "    \n",
    "        \n",
    "\n",
    "class ProgNet(nn.Module):\n",
    "    def __init__(self,depth):\n",
    "        super(ProgNet,self).__init__()\n",
    "        \n",
    "        self.columns = nn.ModuleList([])\n",
    "        self.depth = depth\n",
    "        \n",
    "    \n",
    "    def forward(self,x,task_id=-1):\n",
    "        assert self.columns\n",
    "\n",
    "        inputs = [col[0](x) for col in self.columns]\n",
    "        for l in range(1,self.depth):\n",
    "            out = []         \n",
    "            for i,col in enumerate(self.columns):\n",
    "                out.append(col[l](inputs[:i+1]))\n",
    "\n",
    "            inputs = out\n",
    "        return out[task_id]\n",
    "        \n",
    "    def new_task(self,new_layers,shapes):\n",
    "        assert isinstance(new_layers,nn.Sequential)\n",
    "        assert(len(new_layers) == len(shapes))\n",
    "        \n",
    "        task_id = len(self.columns)\n",
    "        idx =[i for i,layer in enumerate(new_layers) if isinstance(layer,(nn.Conv2d,nn.Linear))] + [len(new_layers)]\n",
    "        new_blocks = []\n",
    "        \n",
    "        for k in range(len(idx) -1): \n",
    "            prev_blocks = []\n",
    "            if k > 0: \n",
    "                prev_blocks = [col[k-1] for col in self.columns]\n",
    "                \n",
    "            new_blocks.append(LateralBlock(col = task_id,\n",
    "                                           depth = k,\n",
    "                                           block = new_layers[idx[k]:idx[k+1]],\n",
    "                                           out_shape = shapes[idx[k+1]-1],\n",
    "                                           in_shapes = self._get_out_shape_blocks(prev_blocks)\n",
    "                                          ))\n",
    "        \n",
    "        new_column = nn.ModuleList(new_blocks)\n",
    "        self.columns.append(new_column)\n",
    "            \n",
    "            \n",
    "        \n",
    "    def _get_out_shape_blocks(self,blocks):\n",
    "        assert isinstance(blocks,list)\n",
    "        assert all(isinstance(block,LateralBlock) for block in blocks)\n",
    "        return [block.out_shape for block in blocks]\n",
    "        \n",
    "        \n",
    "    \n",
    "    def freeze_columns(self, skip=None):\n",
    "        if skip == None:\n",
    "            skip = []\n",
    "\n",
    "        for i, c in enumerate(self.columns):\n",
    "            if i not in skip:\n",
    "                for params in c.parameters():\n",
    "                    params.requires_grad = False"
   ]
  },
  {
   "cell_type": "code",
   "execution_count": 234,
   "metadata": {},
   "outputs": [
    {
     "name": "stdout",
     "output_type": "stream",
     "text": [
      "Total number of parameters is: 609\n"
     ]
    }
   ],
   "source": [
    "net = nn.Sequential(\n",
    "            nn.Linear(1,16),\n",
    "            nn.ReLU(),\n",
    "            nn.Linear(16,32),\n",
    "            nn.ReLU(),\n",
    "            nn.Linear(32,1))\n",
    "shapes = [16,16,32,32,1]\n",
    "params = sum(p.numel() for p in net.parameters() if p.requires_grad)\n",
    "print(\"Total number of parameters is: {}\".format(params))"
   ]
  },
  {
   "cell_type": "code",
   "execution_count": 235,
   "metadata": {},
   "outputs": [
    {
     "name": "stdout",
     "output_type": "stream",
     "text": [
      "Total number of parameters is: 0\n"
     ]
    }
   ],
   "source": [
    "pg = ProgNet(5)\n",
    "params = sum(p.numel() for p in pg.parameters() if p.requires_grad)\n",
    "print(\"Total number of parameters is: {}\".format(params))"
   ]
  },
  {
   "cell_type": "code",
   "execution_count": 236,
   "metadata": {},
   "outputs": [
    {
     "name": "stdout",
     "output_type": "stream",
     "text": [
      "Total number of parameters is: 609\n"
     ]
    }
   ],
   "source": [
    "pg.new_task(net,shapes)\n",
    "params = sum(p.numel() for p in pg.parameters() if p.requires_grad)\n",
    "print(\"Total number of parameters is: {}\".format(params))"
   ]
  },
  {
   "cell_type": "code",
   "execution_count": 237,
   "metadata": {},
   "outputs": [
    {
     "name": "stdout",
     "output_type": "stream",
     "text": [
      "Total number of parameters is: 1218\n"
     ]
    }
   ],
   "source": [
    "pg.new_task(net,shapes)\n",
    "params = sum(p.numel() for p in pg.parameters() if p.requires_grad)\n",
    "print(\"Total number of parameters is: {}\".format(params))"
   ]
  },
  {
   "cell_type": "code",
   "execution_count": 91,
   "metadata": {},
   "outputs": [
    {
     "data": {
      "text/plain": [
       "ModuleList(\n",
       "  (0): LateralBlock(\n",
       "    (block): Sequential(\n",
       "      (0): Linear(in_features=1, out_features=16, bias=True)\n",
       "      (1): ReLU()\n",
       "    )\n",
       "    (u): ModuleList()\n",
       "  )\n",
       "  (1): LateralBlock(\n",
       "    (block): Sequential(\n",
       "      (2): Linear(in_features=16, out_features=32, bias=True)\n",
       "      (3): ReLU()\n",
       "    )\n",
       "    (u): ModuleList(\n",
       "      (0): Linear(in_features=16, out_features=32, bias=True)\n",
       "    )\n",
       "  )\n",
       "  (2): LateralBlock(\n",
       "    (block): Sequential(\n",
       "      (4): Linear(in_features=32, out_features=1, bias=True)\n",
       "    )\n",
       "    (u): ModuleList(\n",
       "      (0): Linear(in_features=32, out_features=1, bias=True)\n",
       "    )\n",
       "  )\n",
       ")"
      ]
     },
     "execution_count": 91,
     "metadata": {},
     "output_type": "execute_result"
    }
   ],
   "source": [
    "pg.columns[1]"
   ]
  },
  {
   "cell_type": "code",
   "execution_count": 34,
   "metadata": {},
   "outputs": [],
   "source": [
    "net = nn.Sequential(\n",
    "        nn.Conv2d(1,4,3,stride = 1, padding = 1), #out: (B,4,28,28)\n",
    "        nn.ReLU(), \n",
    "        nn.BatchNorm2d(4),\n",
    "        nn.MaxPool2d(2,stride = 2), #out: (B,4,14,14)\n",
    "        nn.Conv2d(4,16,3,stride = 1, padding = 1), #out: (B,16,14,14)\n",
    "        nn.ReLU(), \n",
    "        nn.BatchNorm2d(16),\n",
    "        nn.MaxPool2d(2,stride = 2), #out: (B,16,7,7)\n",
    "        nn.Conv2d(16,32,3,stride = 1, padding = 1), #out: (B,32,7,7)\n",
    "        nn.ReLU(), \n",
    "        nn.BatchNorm2d(32),\n",
    "        nn.MaxPool2d(2,stride = 2), #out: (B,32,3,3)\n",
    "        nn.Flatten(),\n",
    "        nn.Linear(in_features = 32*3*3,out_features = 128),\n",
    "        nn.ReLU(),\n",
    "        nn.Dropout(),\n",
    "        nn.Linear(in_features = 128, out_features = 64), \n",
    "        nn.ReLU(),\n",
    "        nn.Dropout(),\n",
    "        nn.Linear(in_features = 64, out_features = 10))\n",
    "\n",
    "shapes = [(4,28,28),\n",
    "          (4,28,28),\n",
    "          (4,28,28),\n",
    "          (4,14,14),\n",
    "          (16,14,14),\n",
    "          (16,14,14),\n",
    "          (16,14,14),\n",
    "          (16,7,7),\n",
    "          (32,7,7),\n",
    "          (32,7,7),\n",
    "          (32,7,7),\n",
    "          (32,3,3),\n",
    "          (128),\n",
    "          (64),\n",
    "          (10)]"
   ]
  },
  {
   "cell_type": "code",
   "execution_count": 24,
   "metadata": {},
   "outputs": [
    {
     "name": "stdout",
     "output_type": "stream",
     "text": [
      "Sequential(\n",
      "  (0): Conv2d(1, 4, kernel_size=(3, 3), stride=(1, 1), padding=(1, 1))\n",
      "  (1): ReLU()\n",
      "  (2): BatchNorm2d(4, eps=1e-05, momentum=0.1, affine=True, track_running_stats=True)\n",
      "  (3): MaxPool2d(kernel_size=2, stride=2, padding=0, dilation=1, ceil_mode=False)\n",
      ")\n",
      "Sequential(\n",
      "  (4): Conv2d(4, 16, kernel_size=(3, 3), stride=(1, 1), padding=(1, 1))\n",
      "  (5): ReLU()\n",
      "  (6): BatchNorm2d(16, eps=1e-05, momentum=0.1, affine=True, track_running_stats=True)\n",
      "  (7): MaxPool2d(kernel_size=2, stride=2, padding=0, dilation=1, ceil_mode=False)\n",
      ")\n",
      "Sequential(\n",
      "  (8): Conv2d(16, 32, kernel_size=(3, 3), stride=(1, 1), padding=(1, 1))\n",
      "  (9): ReLU()\n",
      "  (10): BatchNorm2d(32, eps=1e-05, momentum=0.1, affine=True, track_running_stats=True)\n",
      "  (11): MaxPool2d(kernel_size=2, stride=2, padding=0, dilation=1, ceil_mode=False)\n",
      "  (12): Flatten()\n",
      ")\n",
      "Sequential(\n",
      "  (13): Linear(in_features=288, out_features=128, bias=True)\n",
      "  (14): ReLU()\n",
      "  (15): Dropout(p=0.5, inplace=False)\n",
      ")\n",
      "Sequential(\n",
      "  (16): Linear(in_features=128, out_features=64, bias=True)\n",
      "  (17): ReLU()\n",
      "  (18): Dropout(p=0.5, inplace=False)\n",
      ")\n"
     ]
    }
   ],
   "source": [
    "idx = [i for i,layer in enumerate(net) if isinstance(layer,(nn.Conv2d,nn.Linear))]\n",
    "for k in range(len(idx) -1): \n",
    "    print(net[idx[k]:idx[k+1]])"
   ]
  },
  {
   "cell_type": "code",
   "execution_count": 35,
   "metadata": {},
   "outputs": [
    {
     "data": {
      "text/plain": [
       "torch.nn.modules.container.Sequential"
      ]
     },
     "execution_count": 35,
     "metadata": {},
     "output_type": "execute_result"
    }
   ],
   "source": [
    "type(net[0:4])"
   ]
  },
  {
   "cell_type": "markdown",
   "metadata": {},
   "source": [
    "# MNIST Classification"
   ]
  },
  {
   "cell_type": "code",
   "execution_count": 13,
   "metadata": {},
   "outputs": [],
   "source": [
    "#data loading\n",
    "batch_size_train = 64\n",
    "batch_size_test = 1000\n",
    "train_loader = torch.utils.data.DataLoader(\n",
    "  torchvision.datasets.MNIST('./data', train=True, download=True,\n",
    "                             transform=torchvision.transforms.Compose([\n",
    "                               torchvision.transforms.ToTensor(),\n",
    "                               torchvision.transforms.Normalize(\n",
    "                                 (0.1307,), (0.3081,))\n",
    "                             ])),\n",
    "  batch_size=batch_size_train, shuffle=True)\n",
    "\n",
    "test_loader = torch.utils.data.DataLoader(\n",
    "  torchvision.datasets.MNIST('./data/', train=False, download=True,\n",
    "                             transform=torchvision.transforms.Compose([\n",
    "                               torchvision.transforms.ToTensor(),\n",
    "                               torchvision.transforms.Normalize(\n",
    "                                 (0.1307,), (0.3081,))\n",
    "                             ])),\n",
    "  batch_size=batch_size_test, shuffle=True)"
   ]
  },
  {
   "cell_type": "code",
   "execution_count": 14,
   "metadata": {},
   "outputs": [],
   "source": [
    "data = next(iter(train_loader))"
   ]
  },
  {
   "cell_type": "code",
   "execution_count": 15,
   "metadata": {},
   "outputs": [
    {
     "ename": "NameError",
     "evalue": "name 'net' is not defined",
     "output_type": "error",
     "traceback": [
      "\u001b[0;31m---------------------------------------------------------------------------\u001b[0m",
      "\u001b[0;31mNameError\u001b[0m                                 Traceback (most recent call last)",
      "\u001b[0;32m<ipython-input-15-b7b4bb305bc4>\u001b[0m in \u001b[0;36m<module>\u001b[0;34m\u001b[0m\n\u001b[1;32m      1\u001b[0m \u001b[0mimg\u001b[0m\u001b[0;34m,\u001b[0m\u001b[0m_\u001b[0m \u001b[0;34m=\u001b[0m \u001b[0mdata\u001b[0m\u001b[0;34m\u001b[0m\u001b[0;34m\u001b[0m\u001b[0m\n\u001b[0;32m----> 2\u001b[0;31m \u001b[0mnet\u001b[0m\u001b[0;34m(\u001b[0m\u001b[0mimg\u001b[0m\u001b[0;34m)\u001b[0m\u001b[0;34m.\u001b[0m\u001b[0mshape\u001b[0m\u001b[0;34m\u001b[0m\u001b[0;34m\u001b[0m\u001b[0m\n\u001b[0m",
      "\u001b[0;31mNameError\u001b[0m: name 'net' is not defined"
     ]
    }
   ],
   "source": [
    "img,_ = data\n",
    "net(img).shape"
   ]
  },
  {
   "cell_type": "code",
   "execution_count": 362,
   "metadata": {},
   "outputs": [],
   "source": [
    "#model definition\n",
    "class MyNet(nn.Module):\n",
    "    def __init__(self):\n",
    "        super(MyNet, self).__init__()\n",
    "        \n",
    "        self.conv_layers = nn.Sequential(\n",
    "        nn.Conv2d(1,4,3,stride = 1, padding = 1), #out: (B,4,28,28)\n",
    "        nn.ReLU(), \n",
    "        nn.BatchNorm2d(4),\n",
    "        nn.MaxPool2d(2,stride = 2), #out: (B,4,14,14)\n",
    "        nn.Conv2d(4,16,3,stride = 1, padding = 1), #out: (B,16,14,14)\n",
    "        nn.ReLU(), \n",
    "        nn.BatchNorm2d(16),\n",
    "        nn.MaxPool2d(2,stride = 2), #out: (B,16,7,7)\n",
    "        nn.Conv2d(16,32,3,stride = 1, padding = 1), #out: (B,32,7,7)\n",
    "        nn.ReLU(), \n",
    "        nn.BatchNorm2d(32),\n",
    "        nn.MaxPool2d(2,stride = 2)) #out: (B,32,3,3)\n",
    "        \n",
    "        self.classifier = nn.Sequential(\n",
    "        nn.Linear(in_features = 32*3*3,out_features = 128),\n",
    "        nn.ReLU(),\n",
    "        nn.Dropout(),\n",
    "        nn.Linear(in_features = 128, out_features = 64), \n",
    "        nn.ReLU(),\n",
    "        nn.Dropout(),\n",
    "        nn.Linear(in_features = 64, out_features = 10))\n",
    "        \n",
    "    def forward(self,x):\n",
    "        x = self.conv_layers(x)\n",
    "        x = x.view(x.shape[0],-1)\n",
    "        x = self.classifier(x)\n",
    "        return x"
   ]
  },
  {
   "cell_type": "code",
   "execution_count": 77,
   "metadata": {},
   "outputs": [
    {
     "name": "stdout",
     "output_type": "stream",
     "text": [
      "Total number of parameters is: 51274\n",
      "MyNet(\n",
      "  (conv_layers): Sequential(\n",
      "    (0): Conv2d(1, 4, kernel_size=(3, 3), stride=(1, 1), padding=(1, 1))\n",
      "    (1): ReLU()\n",
      "    (2): BatchNorm2d(4, eps=1e-05, momentum=0.1, affine=True, track_running_stats=True)\n",
      "    (3): MaxPool2d(kernel_size=2, stride=2, padding=0, dilation=1, ceil_mode=False)\n",
      "    (4): Conv2d(4, 16, kernel_size=(3, 3), stride=(1, 1), padding=(1, 1))\n",
      "    (5): ReLU()\n",
      "    (6): BatchNorm2d(16, eps=1e-05, momentum=0.1, affine=True, track_running_stats=True)\n",
      "    (7): MaxPool2d(kernel_size=2, stride=2, padding=0, dilation=1, ceil_mode=False)\n",
      "    (8): Conv2d(16, 32, kernel_size=(3, 3), stride=(1, 1), padding=(1, 1))\n",
      "    (9): ReLU()\n",
      "    (10): BatchNorm2d(32, eps=1e-05, momentum=0.1, affine=True, track_running_stats=True)\n",
      "    (11): MaxPool2d(kernel_size=2, stride=2, padding=0, dilation=1, ceil_mode=False)\n",
      "  )\n",
      "  (classifier): Sequential(\n",
      "    (0): Linear(in_features=288, out_features=128, bias=True)\n",
      "    (1): ReLU()\n",
      "    (2): Dropout(p=0.5, inplace=False)\n",
      "    (3): Linear(in_features=128, out_features=64, bias=True)\n",
      "    (4): ReLU()\n",
      "    (5): Dropout(p=0.5, inplace=False)\n",
      "    (6): Linear(in_features=64, out_features=10, bias=True)\n",
      "  )\n",
      ")\n"
     ]
    }
   ],
   "source": [
    "model = MyNet()\n",
    "params = sum(p.numel() for p in model.parameters() if p.requires_grad)\n",
    "print(\"Total number of parameters is: {}\".format(params))\n",
    "print(model)"
   ]
  },
  {
   "cell_type": "code",
   "execution_count": 78,
   "metadata": {},
   "outputs": [],
   "source": [
    "#Training\n",
    "learning_rate = 0.001\n",
    "num_epochs = 10\n",
    "\n",
    "optimizer = optim.Adam(model.parameters(),\n",
    "                       lr = learning_rate)\n",
    "criterion = F.cross_entropy\n"
   ]
  },
  {
   "cell_type": "code",
   "execution_count": 79,
   "metadata": {},
   "outputs": [
    {
     "name": "stdout",
     "output_type": "stream",
     "text": [
      "epoch [1/10], loss:0.3411\n",
      "epoch [2/10], loss:0.1091\n",
      "epoch [3/10], loss:0.0876\n",
      "epoch [4/10], loss:0.0727\n",
      "epoch [5/10], loss:0.0657\n",
      "epoch [6/10], loss:0.0600\n",
      "epoch [7/10], loss:0.0523\n",
      "epoch [8/10], loss:0.0496\n",
      "epoch [9/10], loss:0.0469\n",
      "epoch [10/10], loss:0.0454\n"
     ]
    }
   ],
   "source": [
    "train_losses = []\n",
    "model.train()\n",
    "for epoch in range(num_epochs):\n",
    "    train_loss = 0\n",
    "    for batch_idx, data in enumerate(train_loader):\n",
    "        img, y = data\n",
    "        optimizer.zero_grad()\n",
    "        # forward\n",
    "        y_pred = model(img)\n",
    "        loss = criterion(y_pred, y,reduction = 'mean')\n",
    "        # backward\n",
    "        loss.backward()\n",
    "        train_loss += loss.item()\n",
    "        optimizer.step()\n",
    "    print('epoch [{}/{}], loss:{:.4f}'\n",
    "          .format(epoch + 1, num_epochs, train_loss / len(train_loader)))\n",
    "\n",
    "    train_losses.append(train_loss/ len(train_loader))\n",
    "\n",
    "\n"
   ]
  },
  {
   "cell_type": "markdown",
   "metadata": {},
   "source": [
    "## Classification with ProgNet: fully connected network"
   ]
  },
  {
   "cell_type": "code",
   "execution_count": 109,
   "metadata": {},
   "outputs": [],
   "source": [
    "def make_column(): \n",
    "    return nn.Sequential(nn.Linear(28*28*1,128),\n",
    "                      nn.ReLU(),\n",
    "                      nn.Linear(128,64),\n",
    "                      nn.ReLU(), \n",
    "                      nn.Linear(64,32),\n",
    "                      nn.ReLU(),\n",
    "                      nn.Linear(32,10))\n",
    "\n",
    "shapes = [128,128,64,64,32,32,10]\n",
    "\n"
   ]
  },
  {
   "cell_type": "code",
   "execution_count": 110,
   "metadata": {},
   "outputs": [],
   "source": [
    "#data loading\n",
    "batch_size_train = 64\n",
    "batch_size_test = 1000\n",
    "\n",
    "dataset_train = torchvision.datasets.MNIST('./data', train=True, download=True,\n",
    "                                     transform = torchvision.transforms.Compose([\n",
    "                                                 torchvision.transforms.ToTensor(),\n",
    "                                                 torchvision.transforms.Normalize(\n",
    "                                                 (0.1307,), (0.3081,))]))\n",
    "dataset_test = torchvision.datasets.MNIST('./data/', train=False, download=True,\n",
    "                             transform=torchvision.transforms.Compose([\n",
    "                               torchvision.transforms.ToTensor(),\n",
    "                               torchvision.transforms.Normalize(\n",
    "                                 (0.1307,), (0.3081,))\n",
    "                             ]))\n",
    "test_loader_full = torch.utils.data.DataLoader(\n",
    "  torchvision.datasets.MNIST('./data/', train=False, download=True,\n",
    "                             transform=torchvision.transforms.Compose([\n",
    "                               torchvision.transforms.ToTensor(),\n",
    "                               torchvision.transforms.Normalize(\n",
    "                                 (0.1307,), (0.3081,))\n",
    "                             ])),\n",
    "  batch_size=batch_size_test, shuffle=True)\n",
    "\n",
    "data = dataset_train.data\n",
    "data_test = dataset_test.data\n",
    "targets = dataset_train.targets\n",
    "targets_test = dataset_test.targets"
   ]
  },
  {
   "cell_type": "code",
   "execution_count": 111,
   "metadata": {},
   "outputs": [],
   "source": [
    "split_idx_train = [(dataset_train.targets ==i).tolist() for i in range(10)]\n",
    "split_idx_test =[(dataset_test.targets ==i).tolist() for i in range(10)]"
   ]
  },
  {
   "cell_type": "markdown",
   "metadata": {},
   "source": [
    "### Training phase  1 \n",
    "Column 0, digits 0 to 4"
   ]
  },
  {
   "cell_type": "code",
   "execution_count": 112,
   "metadata": {},
   "outputs": [],
   "source": [
    "mask_digits_0_4_train = [any(tupl) for tupl in zip(split_idx_train[0],\n",
    "                                                   split_idx_train[1],\n",
    "                                                   split_idx_train[2],\n",
    "                                                   split_idx_train[3],\n",
    "                                                   split_idx_train[4])]\n",
    "\n",
    "mask_digits_0_4_test = [any(tupl) for tupl in zip(split_idx_test[0],\n",
    "                                                   split_idx_test[1],\n",
    "                                                   split_idx_test[2],\n",
    "                                                   split_idx_test[3],\n",
    "                                                   split_idx_test[4])]\n",
    "dataset_train.data = data[mask_digits_0_4_train]\n",
    "dataset_train.targets = targets[mask_digits_0_4_train]\n",
    "\n",
    "dataset_test.data = data_test[mask_digits_0_4_test]\n",
    "dataset_test.targets = targets_test[mask_digits_0_4_test]\n",
    "\n",
    "train_loader = torch.utils.data.DataLoader(\n",
    "  dataset_train,\n",
    "  batch_size=batch_size_train, shuffle=True)\n",
    "\n",
    "test_loader = torch.utils.data.DataLoader(\n",
    "  dataset_test,\n",
    "  batch_size=batch_size_test, shuffle=True)"
   ]
  },
  {
   "cell_type": "code",
   "execution_count": 113,
   "metadata": {},
   "outputs": [
    {
     "name": "stdout",
     "output_type": "stream",
     "text": [
      "Total number of parameters is: 111146\n",
      "ProgNet(\n",
      "  (columns): ModuleList(\n",
      "    (0): ModuleList(\n",
      "      (0): LateralBlock(\n",
      "        (block): Sequential(\n",
      "          (0): Linear(in_features=784, out_features=128, bias=True)\n",
      "          (1): ReLU()\n",
      "        )\n",
      "        (u): ModuleList()\n",
      "      )\n",
      "      (1): LateralBlock(\n",
      "        (block): Sequential(\n",
      "          (2): Linear(in_features=128, out_features=64, bias=True)\n",
      "          (3): ReLU()\n",
      "        )\n",
      "        (u): ModuleList()\n",
      "      )\n",
      "      (2): LateralBlock(\n",
      "        (block): Sequential(\n",
      "          (4): Linear(in_features=64, out_features=32, bias=True)\n",
      "          (5): ReLU()\n",
      "        )\n",
      "        (u): ModuleList()\n",
      "      )\n",
      "      (3): LateralBlock(\n",
      "        (block): Sequential(\n",
      "          (6): Linear(in_features=32, out_features=10, bias=True)\n",
      "        )\n",
      "        (u): ModuleList()\n",
      "      )\n",
      "    )\n",
      "  )\n",
      ")\n"
     ]
    }
   ],
   "source": [
    "prog_net = ProgNet(depth = 4)\n",
    "dummy_net = make_column().to(device)\n",
    "prog_net.new_task(copy.deepcopy(dummy_net),shapes)\n",
    "prog_net = prog_net.to(device)\n",
    "\n",
    "\n",
    "params = sum(p.numel() for p in prog_net.parameters() if p.requires_grad)\n",
    "print(\"Total number of parameters is: {}\".format(params))\n",
    "print(prog_net)"
   ]
  },
  {
   "cell_type": "code",
   "execution_count": 114,
   "metadata": {},
   "outputs": [],
   "source": [
    "#Training\n",
    "learning_rate = 0.0001\n",
    "num_epochs = 10\n",
    "\n",
    "optimizer = optim.Adam(prog_net.parameters(),\n",
    "                       lr = learning_rate)\n",
    "optimizer_d = optim.Adam(dummy_net.parameters(),\n",
    "                       lr = learning_rate)\n",
    "criterion = F.cross_entropy"
   ]
  },
  {
   "cell_type": "code",
   "execution_count": 115,
   "metadata": {},
   "outputs": [],
   "source": [
    "def model_eval(model,dataloader):\n",
    "    model.eval()\n",
    "    with torch.no_grad(): \n",
    "        eval_loss = 0\n",
    "        for batch_idx, data in enumerate(dataloader): \n",
    "            img,y = data\n",
    "            img = img.view(img.shape[0],-1)\n",
    "            img = img.to(device)\n",
    "            y = y.to(device)\n",
    "            y_pred = model(img)\n",
    "            loss = criterion(y_pred,y,reduction = 'mean')\n",
    "            eval_loss += loss.item()\n",
    "    \n",
    "    model.train()\n",
    "    return eval_loss/len(dataloader)"
   ]
  },
  {
   "cell_type": "code",
   "execution_count": 116,
   "metadata": {},
   "outputs": [
    {
     "name": "stdout",
     "output_type": "stream",
     "text": [
      "epoch [1/10], ProgNet loss:0.7589, DummyNet loss:0.6186\n",
      "epoch [2/10], ProgNet loss:0.1216, DummyNet loss:0.1201\n",
      "epoch [3/10], ProgNet loss:0.1003, DummyNet loss:0.0999\n",
      "epoch [4/10], ProgNet loss:0.0884, DummyNet loss:0.0882\n",
      "epoch [5/10], ProgNet loss:0.0790, DummyNet loss:0.0786\n",
      "epoch [6/10], ProgNet loss:0.0711, DummyNet loss:0.0708\n",
      "epoch [7/10], ProgNet loss:0.0642, DummyNet loss:0.0639\n",
      "epoch [8/10], ProgNet loss:0.0576, DummyNet loss:0.0575\n",
      "epoch [9/10], ProgNet loss:0.0509, DummyNet loss:0.0510\n",
      "epoch [10/10], ProgNet loss:0.0455, DummyNet loss:0.0459\n"
     ]
    }
   ],
   "source": [
    "train_losses = []\n",
    "train_losses_d = []\n",
    "test_losses_full = []\n",
    "test_losses = []\n",
    "test_losses_d_full = []\n",
    "test_losses_d = []\n",
    "\n",
    "prog_net.train()\n",
    "dummy_net.train()\n",
    "for epoch in range(num_epochs):\n",
    "    train_loss = 0\n",
    "    train_loss_d = 0\n",
    "    for batch_idx, data in enumerate(train_loader):\n",
    "        img, y = data\n",
    "        img = img.view(img.shape[0],-1)\n",
    "        img = img.to(device)\n",
    "        y = y.to(device)\n",
    "        \n",
    "        optimizer.zero_grad()\n",
    "        optimizer_d.zero_grad()\n",
    "        # forward\n",
    "        y_pred = prog_net(img)\n",
    "        y_pred_d = dummy_net(img)\n",
    "        loss = criterion(y_pred, y,reduction = 'mean')\n",
    "        loss_d = criterion(y_pred_d, y,reduction = 'mean')\n",
    "        # backward\n",
    "        loss.backward()\n",
    "        loss_d.backward()\n",
    "        train_loss += loss.item()\n",
    "        train_loss_d += loss_d.item()\n",
    "        optimizer.step()\n",
    "        optimizer_d.step()\n",
    "    print('epoch [{}/{}], ProgNet loss:{:.4f}, DummyNet loss:{:.4f}'\n",
    "          .format(epoch + 1, num_epochs, train_loss / len(train_loader),train_loss_d/len(train_loader)))\n",
    "\n",
    "    train_losses.append(train_loss/ len(train_loader))\n",
    "    train_losses_d.append(train_loss_d/ len(train_loader))\n",
    "    \n",
    "    test_losses.append(model_eval(prog_net,test_loader))\n",
    "    test_losses_d.append(model_eval(dummy_net,test_loader))\n",
    "    test_losses_full.append(model_eval(prog_net,test_loader_full))\n",
    "    test_losses_d_full.append(model_eval(dummy_net,test_loader_full))"
   ]
  },
  {
   "cell_type": "code",
   "execution_count": 117,
   "metadata": {},
   "outputs": [
    {
     "data": {
      "image/png": "[encoded data removed]",
      "text/plain": [
       "<Figure size 720x360 with 1 Axes>"
      ]
     },
     "metadata": {
      "needs_background": "light"
     },
     "output_type": "display_data"
    }
   ],
   "source": [
    "plt.plot(list(range(0,len(train_losses))), train_losses, label='loss ProgNet')\n",
    "plt.plot(list(range(0,len(train_losses_d))), train_losses_d, label='loss DummyNet')\n",
    "plt.legend()\n",
    "plt.title('Train Loss')\n",
    "plt.show()"
   ]
  },
  {
   "cell_type": "code",
   "execution_count": 118,
   "metadata": {},
   "outputs": [
    {
     "data": {
      "image/png": "[encoded data removed]",
      "text/plain": [
       "<Figure size 720x360 with 2 Axes>"
      ]
     },
     "metadata": {
      "needs_background": "light"
     },
     "output_type": "display_data"
    }
   ],
   "source": [
    "fig, (ax1, ax2) = plt.subplots(1,2)\n",
    "\n",
    "fig.suptitle('Test Loss')\n",
    "\n",
    "ax1.plot(list(range(0,len(test_losses))), test_losses, label='loss ProgNet')\n",
    "ax1.plot(list(range(0,len(test_losses_d))), test_losses_d, label='loss DummyNet')\n",
    "ax2.plot(list(range(0,len(test_losses_full))), test_losses_full, label='loss ProgNet:full')\n",
    "ax2.plot(list(range(0,len(test_losses_d_full))), test_losses_d_full, label='loss DummyNet:full')\n",
    "ax1.legend()\n",
    "ax2.legend()\n",
    "plt.show()"
   ]
  },
  {
   "cell_type": "markdown",
   "metadata": {},
   "source": [
    "### Training Phase 2\n",
    "Column 1, digits 5 to 9"
   ]
  },
  {
   "cell_type": "code",
   "execution_count": 119,
   "metadata": {},
   "outputs": [],
   "source": [
    "#data loading\n",
    "batch_size_train = 64\n",
    "batch_size_test = 1000\n",
    "\n",
    "dataset_train = torchvision.datasets.MNIST('./data', train=True, download=True,\n",
    "                                     transform = torchvision.transforms.Compose([\n",
    "                                                 torchvision.transforms.ToTensor(),\n",
    "                                                 torchvision.transforms.Normalize(\n",
    "                                                 (0.1307,), (0.3081,))]))\n",
    "dataset_test = torchvision.datasets.MNIST('./data/', train=False, download=True,\n",
    "                             transform=torchvision.transforms.Compose([\n",
    "                               torchvision.transforms.ToTensor(),\n",
    "                               torchvision.transforms.Normalize(\n",
    "                                 (0.1307,), (0.3081,))\n",
    "                             ]))\n",
    "test_loader_full = torch.utils.data.DataLoader(\n",
    "  torchvision.datasets.MNIST('./data/', train=False, download=True,\n",
    "                             transform=torchvision.transforms.Compose([\n",
    "                               torchvision.transforms.ToTensor(),\n",
    "                               torchvision.transforms.Normalize(\n",
    "                                 (0.1307,), (0.3081,))\n",
    "                             ])),\n",
    "  batch_size=batch_size_test, shuffle=True)\n",
    "\n",
    "data = dataset_train.data\n",
    "data_test = dataset_test.data\n",
    "targets = dataset_train.targets\n",
    "targets_test = dataset_test.targets"
   ]
  },
  {
   "cell_type": "code",
   "execution_count": 120,
   "metadata": {},
   "outputs": [],
   "source": [
    "mask_digits_5_9_train = [any(tupl) for tupl in zip(split_idx_train[5],\n",
    "                                                   split_idx_train[6],\n",
    "                                                   split_idx_train[7],\n",
    "                                                   split_idx_train[8],\n",
    "                                                   split_idx_train[9])]\n",
    "\n",
    "mask_digits_5_9_test = [any(tupl) for tupl in zip(split_idx_test[5],\n",
    "                                                   split_idx_test[6],\n",
    "                                                   split_idx_test[7],\n",
    "                                                   split_idx_test[8],\n",
    "                                                   split_idx_test[9])]\n",
    "dataset_train.data = data[mask_digits_5_9_train]\n",
    "dataset_train.targets = targets[mask_digits_5_9_train]\n",
    "\n",
    "dataset_test.data = data_test[mask_digits_5_9_test]\n",
    "dataset_test.targets = targets_test[mask_digits_5_9_test]\n",
    "\n",
    "train_loader = torch.utils.data.DataLoader(\n",
    "  dataset_train,\n",
    "  batch_size=batch_size_train, shuffle=True)\n",
    "\n",
    "test_loader = torch.utils.data.DataLoader(\n",
    "  dataset_test,\n",
    "  batch_size=batch_size_test, shuffle=True)"
   ]
  },
  {
   "cell_type": "code",
   "execution_count": 121,
   "metadata": {
    "scrolled": true
   },
   "outputs": [
    {
     "name": "stdout",
     "output_type": "stream",
     "text": [
      "Total number of parameters is: 121812\n",
      "ProgNet(\n",
      "  (columns): ModuleList(\n",
      "    (0): ModuleList(\n",
      "      (0): LateralBlock(\n",
      "        (block): Sequential(\n",
      "          (0): Linear(in_features=784, out_features=128, bias=True)\n",
      "          (1): ReLU()\n",
      "        )\n",
      "        (u): ModuleList()\n",
      "      )\n",
      "      (1): LateralBlock(\n",
      "        (block): Sequential(\n",
      "          (2): Linear(in_features=128, out_features=64, bias=True)\n",
      "          (3): ReLU()\n",
      "        )\n",
      "        (u): ModuleList()\n",
      "      )\n",
      "      (2): LateralBlock(\n",
      "        (block): Sequential(\n",
      "          (4): Linear(in_features=64, out_features=32, bias=True)\n",
      "          (5): ReLU()\n",
      "        )\n",
      "        (u): ModuleList()\n",
      "      )\n",
      "      (3): LateralBlock(\n",
      "        (block): Sequential(\n",
      "          (6): Linear(in_features=32, out_features=10, bias=True)\n",
      "        )\n",
      "        (u): ModuleList()\n",
      "      )\n",
      "    )\n",
      "    (1): ModuleList(\n",
      "      (0): LateralBlock(\n",
      "        (block): Sequential(\n",
      "          (0): Linear(in_features=784, out_features=128, bias=True)\n",
      "          (1): ReLU()\n",
      "        )\n",
      "        (u): ModuleList()\n",
      "      )\n",
      "      (1): LateralBlock(\n",
      "        (block): Sequential(\n",
      "          (2): Linear(in_features=128, out_features=64, bias=True)\n",
      "          (3): ReLU()\n",
      "        )\n",
      "        (u): ModuleList(\n",
      "          (0): Linear(in_features=128, out_features=64, bias=True)\n",
      "        )\n",
      "      )\n",
      "      (2): LateralBlock(\n",
      "        (block): Sequential(\n",
      "          (4): Linear(in_features=64, out_features=32, bias=True)\n",
      "          (5): ReLU()\n",
      "        )\n",
      "        (u): ModuleList(\n",
      "          (0): Linear(in_features=64, out_features=32, bias=True)\n",
      "        )\n",
      "      )\n",
      "      (3): LateralBlock(\n",
      "        (block): Sequential(\n",
      "          (6): Linear(in_features=32, out_features=10, bias=True)\n",
      "        )\n",
      "        (u): ModuleList(\n",
      "          (0): Linear(in_features=32, out_features=10, bias=True)\n",
      "        )\n",
      "      )\n",
      "    )\n",
      "  )\n",
      ")\n"
     ]
    }
   ],
   "source": [
    "prog_net.freeze_columns()\n",
    "prog_net.new_task(make_column(),shapes)\n",
    "prog_net = prog_net.to(device)\n",
    "\n",
    "params = sum(p.numel() for p in prog_net.parameters() if p.requires_grad)\n",
    "print(\"Total number of parameters is: {}\".format(params))\n",
    "print(prog_net)"
   ]
  },
  {
   "cell_type": "code",
   "execution_count": 122,
   "metadata": {},
   "outputs": [],
   "source": [
    "#Training\n",
    "learning_rate = 0.0001\n",
    "num_epochs = 10\n",
    "\n",
    "optimizer = optim.Adam(prog_net.parameters(),\n",
    "                       lr = learning_rate)\n",
    "optimizer_d = optim.Adam(dummy_net.parameters(),\n",
    "                       lr = learning_rate)\n",
    "criterion = F.cross_entropy"
   ]
  },
  {
   "cell_type": "code",
   "execution_count": 123,
   "metadata": {},
   "outputs": [
    {
     "name": "stdout",
     "output_type": "stream",
     "text": [
      "epoch [1/10], ProgNet loss:1.8756, DummyNet loss:2.3052\n",
      "epoch [2/10], ProgNet loss:1.1068, DummyNet loss:0.3483\n",
      "epoch [3/10], ProgNet loss:1.0638, DummyNet loss:0.2075\n",
      "epoch [4/10], ProgNet loss:1.0417, DummyNet loss:0.1632\n",
      "epoch [5/10], ProgNet loss:1.0263, DummyNet loss:0.1367\n",
      "epoch [6/10], ProgNet loss:1.0158, DummyNet loss:0.1182\n",
      "epoch [7/10], ProgNet loss:1.0060, DummyNet loss:0.1027\n",
      "epoch [8/10], ProgNet loss:0.9989, DummyNet loss:0.0909\n",
      "epoch [9/10], ProgNet loss:0.9918, DummyNet loss:0.0803\n",
      "epoch [10/10], ProgNet loss:0.9878, DummyNet loss:0.0718\n"
     ]
    }
   ],
   "source": [
    "prog_net.train()\n",
    "dummy_net.train()\n",
    "for epoch in range(num_epochs):\n",
    "    train_loss = 0\n",
    "    train_loss_d = 0\n",
    "    for batch_idx, data in enumerate(train_loader):\n",
    "        img, y = data\n",
    "        img = img.view(img.shape[0],-1)\n",
    "        img = img.to(device)\n",
    "        y = y.to(device)\n",
    "        optimizer.zero_grad()\n",
    "        optimizer_d.zero_grad()\n",
    "        # forward\n",
    "        y_pred = prog_net(img)\n",
    "        y_pred_d = dummy_net(img)\n",
    "        loss = criterion(y_pred, y,reduction = 'mean')\n",
    "        loss_d = criterion(y_pred_d, y,reduction = 'mean')\n",
    "        # backward\n",
    "        loss.backward()\n",
    "        loss_d.backward()\n",
    "        train_loss += loss.item()\n",
    "        train_loss_d += loss_d.item()\n",
    "        optimizer.step()\n",
    "        optimizer_d.step()\n",
    "    print('epoch [{}/{}], ProgNet loss:{:.4f}, DummyNet loss:{:.4f}'\n",
    "          .format(epoch + 1, num_epochs, train_loss / len(train_loader),train_loss_d/len(train_loader)))\n",
    "\n",
    "    train_losses.append(train_loss/ len(train_loader))\n",
    "    train_losses_d.append(train_loss_d/ len(train_loader))\n",
    "    \n",
    "    test_losses.append(model_eval(prog_net,test_loader))\n",
    "    test_losses_d.append(model_eval(dummy_net,test_loader))\n",
    "    test_losses_full.append(model_eval(prog_net,test_loader_full))\n",
    "    test_losses_d_full.append(model_eval(dummy_net,test_loader_full))"
   ]
  },
  {
   "cell_type": "code",
   "execution_count": 124,
   "metadata": {},
   "outputs": [
    {
     "data": {
      "image/png": "[encoded data removed]",
      "text/plain": [
       "<Figure size 720x360 with 1 Axes>"
      ]
     },
     "metadata": {
      "needs_background": "light"
     },
     "output_type": "display_data"
    }
   ],
   "source": [
    "plt.plot(list(range(0,len(train_losses))), train_losses, label='loss ProgNet')\n",
    "plt.plot(list(range(0,len(train_losses_d))), train_losses_d, label='loss DummyNet')\n",
    "plt.legend()\n",
    "plt.title('Train Loss')\n",
    "plt.show()"
   ]
  },
  {
   "cell_type": "code",
   "execution_count": 125,
   "metadata": {},
   "outputs": [
    {
     "data": {
      "image/png": "[encoded data removed]",
      "text/plain": [
       "<Figure size 720x360 with 2 Axes>"
      ]
     },
     "metadata": {
      "needs_background": "light"
     },
     "output_type": "display_data"
    }
   ],
   "source": [
    "fig, (ax1, ax2) = plt.subplots(1,2)\n",
    "\n",
    "fig.suptitle('Test Loss')\n",
    "\n",
    "ax1.plot(list(range(0,len(test_losses))), test_losses, label='loss ProgNet')\n",
    "ax1.plot(list(range(0,len(test_losses_d))), test_losses_d, label='loss DummyNet')\n",
    "ax2.plot(list(range(0,len(test_losses_full))), test_losses_full, label='loss ProgNet:full')\n",
    "ax2.plot(list(range(0,len(test_losses_d_full))), test_losses_d_full, label='loss DummyNet:full')\n",
    "ax1.legend()\n",
    "ax2.legend()\n",
    "plt.show()"
   ]
  },
  {
   "cell_type": "code",
   "execution_count": null,
   "metadata": {},
   "outputs": [],
   "source": []
  },
  {
   "cell_type": "code",
   "execution_count": 135,
   "metadata": {},
   "outputs": [
    {
     "name": "stdout",
     "output_type": "stream",
     "text": [
      "Parameter containing:\n",
      "tensor([[ 1.0556e-01, -1.6788e-02, -6.3936e-02,  ..., -3.2983e-03,\n",
      "         -2.3748e-03, -8.9485e-03],\n",
      "        [ 6.8939e-02, -5.8926e-02, -1.0093e-01,  ...,  1.1127e-01,\n",
      "          7.9543e-02, -2.4566e-02],\n",
      "        [-7.8900e-02,  7.8956e-02,  8.8703e-02,  ...,  9.2254e-02,\n",
      "          1.1146e-05, -3.8961e-02],\n",
      "        ...,\n",
      "        [ 2.1601e-02,  2.4512e-02, -7.7796e-02,  ...,  1.8971e-02,\n",
      "          1.6093e-02,  2.7122e-02],\n",
      "        [ 5.1328e-02,  4.4463e-04,  5.3202e-02,  ...,  6.4638e-02,\n",
      "          8.6465e-02, -4.4298e-02],\n",
      "        [ 5.2453e-02,  6.0306e-02,  5.4514e-02,  ..., -1.2367e-01,\n",
      "          2.2937e-02,  8.1367e-02]], device='cuda:0', requires_grad=True)\n",
      "Parameter containing:\n",
      "tensor([-0.0324,  0.0598,  0.0107,  0.0818,  0.0898,  0.0833,  0.0900, -0.0743,\n",
      "         0.0830,  0.0622,  0.0316,  0.0119, -0.0329,  0.0430, -0.0879, -0.0741,\n",
      "        -0.0360,  0.0504,  0.0845,  0.0947,  0.0784,  0.0745,  0.0188, -0.0001,\n",
      "         0.0512,  0.0331,  0.0300, -0.0654, -0.0480, -0.0700,  0.0510, -0.0732,\n",
      "        -0.0864, -0.0334,  0.0558, -0.0582,  0.0779,  0.0111,  0.0685, -0.0212,\n",
      "         0.0357,  0.0789, -0.0910, -0.0031, -0.0234,  0.0719,  0.0125,  0.0624,\n",
      "         0.0282,  0.0559,  0.0542,  0.0745,  0.0342, -0.0153,  0.0155,  0.0922,\n",
      "         0.0408,  0.0091, -0.0065, -0.0272, -0.0812,  0.0003, -0.0084, -0.0070],\n",
      "       device='cuda:0', requires_grad=True)\n",
      "Parameter containing:\n",
      "tensor([[ 0.0138, -0.1002, -0.0541,  ..., -0.0350,  0.0442,  0.1174],\n",
      "        [-0.0071,  0.0756,  0.0643,  ..., -0.0593,  0.0644, -0.0094],\n",
      "        [-0.0112,  0.0718,  0.0187,  ...,  0.0899,  0.1028,  0.0571],\n",
      "        ...,\n",
      "        [ 0.0260, -0.0104, -0.1012,  ...,  0.0945,  0.1018, -0.0047],\n",
      "        [-0.0345,  0.0671,  0.0505,  ..., -0.0738,  0.0503, -0.0709],\n",
      "        [ 0.1007,  0.0606,  0.1074,  ..., -0.0610,  0.1203,  0.0818]],\n",
      "       device='cuda:0', requires_grad=True)\n",
      "Parameter containing:\n",
      "tensor([ 0.0347,  0.0454, -0.1063, -0.0928,  0.1161, -0.1322,  0.0172,  0.0075,\n",
      "         0.0119,  0.0038,  0.0601,  0.0609,  0.1022, -0.0202,  0.0013, -0.0399,\n",
      "        -0.0323,  0.0872, -0.0646, -0.0496,  0.0320, -0.0321,  0.0012,  0.0639,\n",
      "         0.0431,  0.0751,  0.0919,  0.0250, -0.0138,  0.0045, -0.0363, -0.0609],\n",
      "       device='cuda:0', requires_grad=True)\n",
      "Parameter containing:\n",
      "tensor([[ 0.0286,  0.0064, -0.0501,  0.0317, -0.0019,  0.1566,  0.1275,  0.0535,\n",
      "         -0.1464, -0.1021, -0.1150,  0.0184,  0.0468, -0.1164, -0.0988,  0.1301,\n",
      "          0.0151,  0.0376,  0.0889, -0.0414,  0.1072,  0.1649,  0.1113, -0.0609,\n",
      "          0.1175, -0.0734,  0.0798,  0.0773, -0.1589, -0.0286,  0.0210,  0.1510],\n",
      "        [-0.1508, -0.1636,  0.0272,  0.0019, -0.0899,  0.1611,  0.0897,  0.1112,\n",
      "          0.1441, -0.0369, -0.0431,  0.0107,  0.1012, -0.0485, -0.0264, -0.1723,\n",
      "          0.0400, -0.1362,  0.1105, -0.0057, -0.1710, -0.0981,  0.1545,  0.0911,\n",
      "         -0.1106,  0.1204,  0.1159,  0.1201,  0.1671, -0.0566,  0.1504,  0.0342],\n",
      "        [ 0.0360,  0.0972, -0.1689, -0.1378, -0.1639,  0.0306,  0.0634,  0.1543,\n",
      "         -0.1689, -0.0924,  0.0783,  0.0482,  0.1123, -0.0425, -0.1069,  0.1625,\n",
      "          0.0235, -0.0063, -0.1484, -0.1251,  0.0342, -0.1422, -0.1007, -0.1750,\n",
      "         -0.1537,  0.0328,  0.0785,  0.0774, -0.0735, -0.0263,  0.1427, -0.1575],\n",
      "        [-0.0549,  0.0841,  0.1763, -0.1097, -0.0320, -0.1408, -0.0835, -0.0319,\n",
      "         -0.0556, -0.1183,  0.0216, -0.1119, -0.0306, -0.0899,  0.0423,  0.1153,\n",
      "         -0.0154, -0.1593,  0.1145,  0.0040,  0.0368, -0.0784,  0.1109,  0.1274,\n",
      "         -0.1128,  0.0610, -0.1395,  0.0760, -0.0526, -0.0278, -0.0534,  0.1119],\n",
      "        [ 0.0322, -0.0498, -0.1518,  0.1356,  0.1447, -0.1331, -0.0948,  0.1218,\n",
      "          0.1393, -0.1529, -0.1268, -0.1055,  0.1498, -0.0814,  0.1557, -0.1500,\n",
      "         -0.0403, -0.1432, -0.1541, -0.1684, -0.1495,  0.0464, -0.0511,  0.1518,\n",
      "          0.0728,  0.1525,  0.0356,  0.1181, -0.0002, -0.0696,  0.1118,  0.1264],\n",
      "        [ 0.0849, -0.0112, -0.0997, -0.0503,  0.1391,  0.0630,  0.1325, -0.1770,\n",
      "         -0.0042, -0.0375,  0.1201,  0.1054,  0.0978,  0.0411,  0.1650, -0.1014,\n",
      "          0.0943, -0.0275,  0.0786,  0.1579, -0.1550,  0.0889, -0.0108, -0.1705,\n",
      "          0.0863, -0.0146, -0.0250,  0.1126, -0.1255,  0.1094,  0.0562, -0.0383],\n",
      "        [ 0.0739, -0.0382,  0.1211, -0.1496, -0.1270, -0.1007, -0.0940,  0.0457,\n",
      "         -0.0302, -0.1525, -0.1577,  0.1195, -0.0494,  0.1651, -0.0958, -0.0282,\n",
      "          0.0340, -0.0067, -0.1389, -0.1019, -0.0773, -0.1017, -0.1317,  0.1426,\n",
      "          0.0680, -0.0239,  0.0326,  0.0232, -0.0735, -0.0378, -0.0083,  0.0844],\n",
      "        [ 0.1231, -0.0617,  0.0737, -0.1218,  0.0282,  0.1399,  0.0493,  0.0718,\n",
      "         -0.0757, -0.0396,  0.0789,  0.0005,  0.0676, -0.0710,  0.0882, -0.0807,\n",
      "         -0.1134,  0.1395, -0.0966,  0.1299,  0.0248, -0.1020, -0.0967, -0.0728,\n",
      "          0.0637, -0.0723,  0.0985,  0.1410,  0.1114, -0.0306,  0.0149,  0.0769],\n",
      "        [ 0.0605, -0.1520, -0.0062, -0.1662,  0.0145,  0.0521,  0.1323,  0.0834,\n",
      "          0.0278,  0.1377, -0.0969,  0.1566, -0.0693, -0.1348,  0.1123,  0.1165,\n",
      "         -0.1180,  0.1623, -0.0690,  0.1673, -0.0116,  0.1504,  0.1183, -0.0447,\n",
      "         -0.0108,  0.0351, -0.1522,  0.1242,  0.1705,  0.0631, -0.1088, -0.1426],\n",
      "        [-0.1326, -0.1147, -0.0272, -0.0457,  0.0235, -0.1412, -0.0193, -0.0978,\n",
      "          0.0734, -0.0548,  0.1038,  0.0063,  0.1076, -0.0502, -0.0915,  0.0955,\n",
      "          0.1389, -0.0488, -0.0831, -0.0254,  0.1449, -0.0992, -0.0827,  0.1490,\n",
      "          0.1205,  0.0982,  0.1585,  0.0707,  0.1318, -0.0066, -0.1563, -0.0279]],\n",
      "       device='cuda:0', requires_grad=True)\n",
      "Parameter containing:\n",
      "tensor([ 0.0399, -0.0207, -0.0935,  0.0579, -0.1773,  0.1361, -0.1299,  0.0327,\n",
      "        -0.1324,  0.0911], device='cuda:0', requires_grad=True)\n"
     ]
    }
   ],
   "source": [
    "for block in prog_net.columns[1]:\n",
    "    if block.u: \n",
    "        for p in block.u.parameters(): \n",
    "            print(p)"
   ]
  },
  {
   "cell_type": "code",
   "execution_count": 132,
   "metadata": {},
   "outputs": [],
   "source": [
    "a = nn.Linear(13,21"
   ]
  },
  {
   "cell_type": "code",
   "execution_count": 134,
   "metadata": {},
   "outputs": [
    {
     "data": {
      "text/plain": [
       "<generator object Module.parameters at 0x7f242c0ae8e0>"
      ]
     },
     "execution_count": 134,
     "metadata": {},
     "output_type": "execute_result"
    }
   ],
   "source": [
    "a.parameters()"
   ]
  },
  {
   "cell_type": "code",
   "execution_count": null,
   "metadata": {},
   "outputs": [],
   "source": []
  },
  {
   "cell_type": "code",
   "execution_count": null,
   "metadata": {},
   "outputs": [],
   "source": []
  }
 ],
 "metadata": {
  "kernelspec": {
   "display_name": "Python (prog-nets-env)",
   "language": "python",
   "name": "prog-nets-env"
  },
  "language_info": {
   "codemirror_mode": {
    "name": "ipython",
    "version": 3
   },
   "file_extension": ".py",
   "mimetype": "text/x-python",
   "name": "python",
   "nbconvert_exporter": "python",
   "pygments_lexer": "ipython3",
   "version": "3.6.9"
  }
 },
 "nbformat": 4,
 "nbformat_minor": 2
}
