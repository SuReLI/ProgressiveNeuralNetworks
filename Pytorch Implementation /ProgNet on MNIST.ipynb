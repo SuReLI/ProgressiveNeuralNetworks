{
 "cells": [
  {
   "cell_type": "code",
   "execution_count": 1,
   "metadata": {},
   "outputs": [],
   "source": [
    "import torch \n",
    "import torch.nn as nn \n",
    "import torch.nn.functional as F \n",
    "import torch.optim as optim\n",
    "import torchvision\n",
    "import copy\n",
    "import numpy as np\n",
    "import matplotlib.pyplot as plt\n",
    "%matplotlib inline\n",
    "plt.rcParams['figure.figsize'] = [10, 5]"
   ]
  },
  {
   "cell_type": "code",
   "execution_count": 2,
   "metadata": {},
   "outputs": [
    {
     "name": "stdout",
     "output_type": "stream",
     "text": [
      "cuda:0\n"
     ]
    }
   ],
   "source": [
    "GPU = True\n",
    "device_idx = 0\n",
    "if GPU:\n",
    "    device = torch.device(\"cuda:\" + str(device_idx) if torch.cuda.is_available() else \"cpu\")\n",
    "else:\n",
    "    device = torch.device(\"cpu\")\n",
    "print(device)"
   ]
  },
  {
   "cell_type": "code",
   "execution_count": 12,
   "metadata": {},
   "outputs": [],
   "source": [
    "class LateralBlock(nn.Module):\n",
    "    def __init__(self,col,depth,block,out_shape, in_shapes):\n",
    "        super(LateralBlock,self).__init__()\n",
    "        self.col = col\n",
    "        self.depth = depth \n",
    "        self.out_shape = out_shape\n",
    "        self.block = block\n",
    "        self.u = nn.ModuleList()\n",
    "        \n",
    "        \n",
    "        if self.depth > 0: \n",
    "            self.u.extend([nn.Linear(in_shape,self.out_shape) for in_shape in in_shapes])\n",
    "\n",
    "\n",
    "    def forward(self,inputs,activated = True):\n",
    "        if not isinstance(inputs, list):\n",
    "            inputs = [inputs]\n",
    "\n",
    "        cur_column_out = self.block(inputs[-1])\n",
    "        prev_columns_out = [mod(x) for mod, x in zip(self.u, inputs)] \n",
    "        res= cur_column_out + sum(prev_columns_out)\n",
    "        if activated: \n",
    "            res = F.relu(res)\n",
    "        return res\n",
    "    \n",
    "        \n",
    "\n",
    "class ProgNet(nn.Module):\n",
    "    def __init__(self,depth):\n",
    "        super(ProgNet,self).__init__()\n",
    "        \n",
    "        self.columns = nn.ModuleList([])\n",
    "        self.depth = depth\n",
    "        \n",
    "    \n",
    "    def forward(self,x,task_id=-1):\n",
    "        assert self.columns\n",
    "\n",
    "        inputs = [col[0](x) for col in self.columns]\n",
    "        for l in range(1,self.depth):\n",
    "            out = []         \n",
    "            for i,col in enumerate(self.columns):\n",
    "                out.append(col[l](inputs[:i+1],activated = (l== self.depth - 1)))\n",
    "\n",
    "            inputs = out\n",
    "        return out[task_id]\n",
    "        \n",
    "    def new_task(self,new_layers,shapes):\n",
    "        assert isinstance(new_layers,nn.Sequential)\n",
    "        assert(len(new_layers) == len(shapes))\n",
    "        \n",
    "        task_id = len(self.columns)\n",
    "        idx =[i for i,layer in enumerate(new_layers) if isinstance(layer,(nn.Conv2d,nn.Linear))] + [len(new_layers)]\n",
    "        new_blocks = []\n",
    "        \n",
    "        for k in range(len(idx) -1): \n",
    "            prev_blocks = []\n",
    "            if k > 0: \n",
    "                prev_blocks = [col[k-1] for col in self.columns]\n",
    "                \n",
    "            new_blocks.append(LateralBlock(col = task_id,\n",
    "                                           depth = k,\n",
    "                                           block = new_layers[idx[k]:idx[k+1]],\n",
    "                                           out_shape = shapes[idx[k+1]-1],\n",
    "                                           in_shapes = self._get_out_shape_blocks(prev_blocks)\n",
    "                                          ))\n",
    "        \n",
    "        new_column = nn.ModuleList(new_blocks)\n",
    "        self.columns.append(new_column)\n",
    "            \n",
    "            \n",
    "        \n",
    "    def _get_out_shape_blocks(self,blocks):\n",
    "        assert isinstance(blocks,list)\n",
    "        assert all(isinstance(block,LateralBlock) for block in blocks)\n",
    "        return [block.out_shape for block in blocks]\n",
    "        \n",
    "        \n",
    "    \n",
    "    def freeze_columns(self, skip=None):\n",
    "        if skip == None:\n",
    "            skip = []\n",
    "\n",
    "        for i, c in enumerate(self.columns):\n",
    "            if i not in skip:\n",
    "                for params in c.parameters():\n",
    "                    params.requires_grad = False"
   ]
  },
  {
   "cell_type": "code",
   "execution_count": 234,
   "metadata": {},
   "outputs": [
    {
     "name": "stdout",
     "output_type": "stream",
     "text": [
      "Total number of parameters is: 609\n"
     ]
    }
   ],
   "source": [
    "net = nn.Sequential(\n",
    "            nn.Linear(1,16),\n",
    "            nn.ReLU(),\n",
    "            nn.Linear(16,32),\n",
    "            nn.ReLU(),\n",
    "            nn.Linear(32,1))\n",
    "shapes = [16,16,32,32,1]\n",
    "params = sum(p.numel() for p in net.parameters() if p.requires_grad)\n",
    "print(\"Total number of parameters is: {}\".format(params))"
   ]
  },
  {
   "cell_type": "code",
   "execution_count": 235,
   "metadata": {},
   "outputs": [
    {
     "name": "stdout",
     "output_type": "stream",
     "text": [
      "Total number of parameters is: 0\n"
     ]
    }
   ],
   "source": [
    "pg = ProgNet(5)\n",
    "params = sum(p.numel() for p in pg.parameters() if p.requires_grad)\n",
    "print(\"Total number of parameters is: {}\".format(params))"
   ]
  },
  {
   "cell_type": "code",
   "execution_count": 236,
   "metadata": {},
   "outputs": [
    {
     "name": "stdout",
     "output_type": "stream",
     "text": [
      "Total number of parameters is: 609\n"
     ]
    }
   ],
   "source": [
    "pg.new_task(net,shapes)\n",
    "params = sum(p.numel() for p in pg.parameters() if p.requires_grad)\n",
    "print(\"Total number of parameters is: {}\".format(params))"
   ]
  },
  {
   "cell_type": "code",
   "execution_count": 237,
   "metadata": {},
   "outputs": [
    {
     "name": "stdout",
     "output_type": "stream",
     "text": [
      "Total number of parameters is: 1218\n"
     ]
    }
   ],
   "source": [
    "pg.new_task(net,shapes)\n",
    "params = sum(p.numel() for p in pg.parameters() if p.requires_grad)\n",
    "print(\"Total number of parameters is: {}\".format(params))"
   ]
  },
  {
   "cell_type": "code",
   "execution_count": 91,
   "metadata": {},
   "outputs": [
    {
     "data": {
      "text/plain": [
       "ModuleList(\n",
       "  (0): LateralBlock(\n",
       "    (block): Sequential(\n",
       "      (0): Linear(in_features=1, out_features=16, bias=True)\n",
       "      (1): ReLU()\n",
       "    )\n",
       "    (u): ModuleList()\n",
       "  )\n",
       "  (1): LateralBlock(\n",
       "    (block): Sequential(\n",
       "      (2): Linear(in_features=16, out_features=32, bias=True)\n",
       "      (3): ReLU()\n",
       "    )\n",
       "    (u): ModuleList(\n",
       "      (0): Linear(in_features=16, out_features=32, bias=True)\n",
       "    )\n",
       "  )\n",
       "  (2): LateralBlock(\n",
       "    (block): Sequential(\n",
       "      (4): Linear(in_features=32, out_features=1, bias=True)\n",
       "    )\n",
       "    (u): ModuleList(\n",
       "      (0): Linear(in_features=32, out_features=1, bias=True)\n",
       "    )\n",
       "  )\n",
       ")"
      ]
     },
     "execution_count": 91,
     "metadata": {},
     "output_type": "execute_result"
    }
   ],
   "source": [
    "pg.columns[1]"
   ]
  },
  {
   "cell_type": "code",
   "execution_count": 34,
   "metadata": {},
   "outputs": [],
   "source": [
    "net = nn.Sequential(\n",
    "        nn.Conv2d(1,4,3,stride = 1, padding = 1), #out: (B,4,28,28)\n",
    "        nn.ReLU(), \n",
    "        nn.BatchNorm2d(4),\n",
    "        nn.MaxPool2d(2,stride = 2), #out: (B,4,14,14)\n",
    "        nn.Conv2d(4,16,3,stride = 1, padding = 1), #out: (B,16,14,14)\n",
    "        nn.ReLU(), \n",
    "        nn.BatchNorm2d(16),\n",
    "        nn.MaxPool2d(2,stride = 2), #out: (B,16,7,7)\n",
    "        nn.Conv2d(16,32,3,stride = 1, padding = 1), #out: (B,32,7,7)\n",
    "        nn.ReLU(), \n",
    "        nn.BatchNorm2d(32),\n",
    "        nn.MaxPool2d(2,stride = 2), #out: (B,32,3,3)\n",
    "        nn.Flatten(),\n",
    "        nn.Linear(in_features = 32*3*3,out_features = 128),\n",
    "        nn.ReLU(),\n",
    "        nn.Dropout(),\n",
    "        nn.Linear(in_features = 128, out_features = 64), \n",
    "        nn.ReLU(),\n",
    "        nn.Dropout(),\n",
    "        nn.Linear(in_features = 64, out_features = 10))\n",
    "\n",
    "shapes = [(4,28,28),\n",
    "          (4,28,28),\n",
    "          (4,28,28),\n",
    "          (4,14,14),\n",
    "          (16,14,14),\n",
    "          (16,14,14),\n",
    "          (16,14,14),\n",
    "          (16,7,7),\n",
    "          (32,7,7),\n",
    "          (32,7,7),\n",
    "          (32,7,7),\n",
    "          (32,3,3),\n",
    "          (128),\n",
    "          (64),\n",
    "          (10)]"
   ]
  },
  {
   "cell_type": "code",
   "execution_count": 24,
   "metadata": {},
   "outputs": [
    {
     "name": "stdout",
     "output_type": "stream",
     "text": [
      "Sequential(\n",
      "  (0): Conv2d(1, 4, kernel_size=(3, 3), stride=(1, 1), padding=(1, 1))\n",
      "  (1): ReLU()\n",
      "  (2): BatchNorm2d(4, eps=1e-05, momentum=0.1, affine=True, track_running_stats=True)\n",
      "  (3): MaxPool2d(kernel_size=2, stride=2, padding=0, dilation=1, ceil_mode=False)\n",
      ")\n",
      "Sequential(\n",
      "  (4): Conv2d(4, 16, kernel_size=(3, 3), stride=(1, 1), padding=(1, 1))\n",
      "  (5): ReLU()\n",
      "  (6): BatchNorm2d(16, eps=1e-05, momentum=0.1, affine=True, track_running_stats=True)\n",
      "  (7): MaxPool2d(kernel_size=2, stride=2, padding=0, dilation=1, ceil_mode=False)\n",
      ")\n",
      "Sequential(\n",
      "  (8): Conv2d(16, 32, kernel_size=(3, 3), stride=(1, 1), padding=(1, 1))\n",
      "  (9): ReLU()\n",
      "  (10): BatchNorm2d(32, eps=1e-05, momentum=0.1, affine=True, track_running_stats=True)\n",
      "  (11): MaxPool2d(kernel_size=2, stride=2, padding=0, dilation=1, ceil_mode=False)\n",
      "  (12): Flatten()\n",
      ")\n",
      "Sequential(\n",
      "  (13): Linear(in_features=288, out_features=128, bias=True)\n",
      "  (14): ReLU()\n",
      "  (15): Dropout(p=0.5, inplace=False)\n",
      ")\n",
      "Sequential(\n",
      "  (16): Linear(in_features=128, out_features=64, bias=True)\n",
      "  (17): ReLU()\n",
      "  (18): Dropout(p=0.5, inplace=False)\n",
      ")\n"
     ]
    }
   ],
   "source": [
    "idx = [i for i,layer in enumerate(net) if isinstance(layer,(nn.Conv2d,nn.Linear))]\n",
    "for k in range(len(idx) -1): \n",
    "    print(net[idx[k]:idx[k+1]])"
   ]
  },
  {
   "cell_type": "code",
   "execution_count": 35,
   "metadata": {},
   "outputs": [
    {
     "data": {
      "text/plain": [
       "torch.nn.modules.container.Sequential"
      ]
     },
     "execution_count": 35,
     "metadata": {},
     "output_type": "execute_result"
    }
   ],
   "source": [
    "type(net[0:4])"
   ]
  },
  {
   "cell_type": "markdown",
   "metadata": {},
   "source": [
    "# MNIST Classification"
   ]
  },
  {
   "cell_type": "code",
   "execution_count": 13,
   "metadata": {},
   "outputs": [],
   "source": [
    "#data loading\n",
    "batch_size_train = 64\n",
    "batch_size_test = 1000\n",
    "train_loader = torch.utils.data.DataLoader(\n",
    "  torchvision.datasets.MNIST('./data', train=True, download=True,\n",
    "                             transform=torchvision.transforms.Compose([\n",
    "                               torchvision.transforms.ToTensor(),\n",
    "                               torchvision.transforms.Normalize(\n",
    "                                 (0.1307,), (0.3081,))\n",
    "                             ])),\n",
    "  batch_size=batch_size_train, shuffle=True)\n",
    "\n",
    "test_loader = torch.utils.data.DataLoader(\n",
    "  torchvision.datasets.MNIST('./data/', train=False, download=True,\n",
    "                             transform=torchvision.transforms.Compose([\n",
    "                               torchvision.transforms.ToTensor(),\n",
    "                               torchvision.transforms.Normalize(\n",
    "                                 (0.1307,), (0.3081,))\n",
    "                             ])),\n",
    "  batch_size=batch_size_test, shuffle=True)"
   ]
  },
  {
   "cell_type": "code",
   "execution_count": 14,
   "metadata": {},
   "outputs": [],
   "source": [
    "data = next(iter(train_loader))"
   ]
  },
  {
   "cell_type": "code",
   "execution_count": 15,
   "metadata": {},
   "outputs": [
    {
     "ename": "NameError",
     "evalue": "name 'net' is not defined",
     "output_type": "error",
     "traceback": [
      "\u001b[0;31m---------------------------------------------------------------------------\u001b[0m",
      "\u001b[0;31mNameError\u001b[0m                                 Traceback (most recent call last)",
      "\u001b[0;32m<ipython-input-15-b7b4bb305bc4>\u001b[0m in \u001b[0;36m<module>\u001b[0;34m\u001b[0m\n\u001b[1;32m      1\u001b[0m \u001b[0mimg\u001b[0m\u001b[0;34m,\u001b[0m\u001b[0m_\u001b[0m \u001b[0;34m=\u001b[0m \u001b[0mdata\u001b[0m\u001b[0;34m\u001b[0m\u001b[0;34m\u001b[0m\u001b[0m\n\u001b[0;32m----> 2\u001b[0;31m \u001b[0mnet\u001b[0m\u001b[0;34m(\u001b[0m\u001b[0mimg\u001b[0m\u001b[0;34m)\u001b[0m\u001b[0;34m.\u001b[0m\u001b[0mshape\u001b[0m\u001b[0;34m\u001b[0m\u001b[0;34m\u001b[0m\u001b[0m\n\u001b[0m",
      "\u001b[0;31mNameError\u001b[0m: name 'net' is not defined"
     ]
    }
   ],
   "source": [
    "img,_ = data\n",
    "net(img).shape"
   ]
  },
  {
   "cell_type": "code",
   "execution_count": 362,
   "metadata": {},
   "outputs": [],
   "source": [
    "#model definition\n",
    "class MyNet(nn.Module):\n",
    "    def __init__(self):\n",
    "        super(MyNet, self).__init__()\n",
    "        \n",
    "        self.conv_layers = nn.Sequential(\n",
    "        nn.Conv2d(1,4,3,stride = 1, padding = 1), #out: (B,4,28,28)\n",
    "        nn.ReLU(), \n",
    "        nn.BatchNorm2d(4),\n",
    "        nn.MaxPool2d(2,stride = 2), #out: (B,4,14,14)\n",
    "        nn.Conv2d(4,16,3,stride = 1, padding = 1), #out: (B,16,14,14)\n",
    "        nn.ReLU(), \n",
    "        nn.BatchNorm2d(16),\n",
    "        nn.MaxPool2d(2,stride = 2), #out: (B,16,7,7)\n",
    "        nn.Conv2d(16,32,3,stride = 1, padding = 1), #out: (B,32,7,7)\n",
    "        nn.ReLU(), \n",
    "        nn.BatchNorm2d(32),\n",
    "        nn.MaxPool2d(2,stride = 2)) #out: (B,32,3,3)\n",
    "        \n",
    "        self.classifier = nn.Sequential(\n",
    "        nn.Linear(in_features = 32*3*3,out_features = 128),\n",
    "        nn.ReLU(),\n",
    "        nn.Dropout(),\n",
    "        nn.Linear(in_features = 128, out_features = 64), \n",
    "        nn.ReLU(),\n",
    "        nn.Dropout(),\n",
    "        nn.Linear(in_features = 64, out_features = 10))\n",
    "        \n",
    "    def forward(self,x):\n",
    "        x = self.conv_layers(x)\n",
    "        x = x.view(x.shape[0],-1)\n",
    "        x = self.classifier(x)\n",
    "        return x"
   ]
  },
  {
   "cell_type": "code",
   "execution_count": 77,
   "metadata": {},
   "outputs": [
    {
     "name": "stdout",
     "output_type": "stream",
     "text": [
      "Total number of parameters is: 51274\n",
      "MyNet(\n",
      "  (conv_layers): Sequential(\n",
      "    (0): Conv2d(1, 4, kernel_size=(3, 3), stride=(1, 1), padding=(1, 1))\n",
      "    (1): ReLU()\n",
      "    (2): BatchNorm2d(4, eps=1e-05, momentum=0.1, affine=True, track_running_stats=True)\n",
      "    (3): MaxPool2d(kernel_size=2, stride=2, padding=0, dilation=1, ceil_mode=False)\n",
      "    (4): Conv2d(4, 16, kernel_size=(3, 3), stride=(1, 1), padding=(1, 1))\n",
      "    (5): ReLU()\n",
      "    (6): BatchNorm2d(16, eps=1e-05, momentum=0.1, affine=True, track_running_stats=True)\n",
      "    (7): MaxPool2d(kernel_size=2, stride=2, padding=0, dilation=1, ceil_mode=False)\n",
      "    (8): Conv2d(16, 32, kernel_size=(3, 3), stride=(1, 1), padding=(1, 1))\n",
      "    (9): ReLU()\n",
      "    (10): BatchNorm2d(32, eps=1e-05, momentum=0.1, affine=True, track_running_stats=True)\n",
      "    (11): MaxPool2d(kernel_size=2, stride=2, padding=0, dilation=1, ceil_mode=False)\n",
      "  )\n",
      "  (classifier): Sequential(\n",
      "    (0): Linear(in_features=288, out_features=128, bias=True)\n",
      "    (1): ReLU()\n",
      "    (2): Dropout(p=0.5, inplace=False)\n",
      "    (3): Linear(in_features=128, out_features=64, bias=True)\n",
      "    (4): ReLU()\n",
      "    (5): Dropout(p=0.5, inplace=False)\n",
      "    (6): Linear(in_features=64, out_features=10, bias=True)\n",
      "  )\n",
      ")\n"
     ]
    }
   ],
   "source": [
    "model = MyNet()\n",
    "params = sum(p.numel() for p in model.parameters() if p.requires_grad)\n",
    "print(\"Total number of parameters is: {}\".format(params))\n",
    "print(model)"
   ]
  },
  {
   "cell_type": "code",
   "execution_count": 78,
   "metadata": {},
   "outputs": [],
   "source": [
    "#Training\n",
    "learning_rate = 0.001\n",
    "num_epochs = 10\n",
    "\n",
    "optimizer = optim.Adam(model.parameters(),\n",
    "                       lr = learning_rate)\n",
    "criterion = F.cross_entropy\n"
   ]
  },
  {
   "cell_type": "code",
   "execution_count": 79,
   "metadata": {},
   "outputs": [
    {
     "name": "stdout",
     "output_type": "stream",
     "text": [
      "epoch [1/10], loss:0.3411\n",
      "epoch [2/10], loss:0.1091\n",
      "epoch [3/10], loss:0.0876\n",
      "epoch [4/10], loss:0.0727\n",
      "epoch [5/10], loss:0.0657\n",
      "epoch [6/10], loss:0.0600\n",
      "epoch [7/10], loss:0.0523\n",
      "epoch [8/10], loss:0.0496\n",
      "epoch [9/10], loss:0.0469\n",
      "epoch [10/10], loss:0.0454\n"
     ]
    }
   ],
   "source": [
    "train_losses = []\n",
    "model.train()\n",
    "for epoch in range(num_epochs):\n",
    "    train_loss = 0\n",
    "    for batch_idx, data in enumerate(train_loader):\n",
    "        img, y = data\n",
    "        optimizer.zero_grad()\n",
    "        # forward\n",
    "        y_pred = model(img)\n",
    "        loss = criterion(y_pred, y,reduction = 'mean')\n",
    "        # backward\n",
    "        loss.backward()\n",
    "        train_loss += loss.item()\n",
    "        optimizer.step()\n",
    "    print('epoch [{}/{}], loss:{:.4f}'\n",
    "          .format(epoch + 1, num_epochs, train_loss / len(train_loader)))\n",
    "\n",
    "    train_losses.append(train_loss/ len(train_loader))\n",
    "\n",
    "\n"
   ]
  },
  {
   "cell_type": "markdown",
   "metadata": {},
   "source": [
    "## Classification with ProgNet: fully connected network"
   ]
  },
  {
   "cell_type": "code",
   "execution_count": 126,
   "metadata": {},
   "outputs": [],
   "source": [
    "def make_column(activated = True): \n",
    "    if activated: \n",
    "        model = nn.Sequential(nn.Linear(28*28*1,128),\n",
    "                      nn.ReLU(),\n",
    "                      nn.Linear(128,64),\n",
    "                      nn.ReLU(), \n",
    "                      nn.Linear(64,32),\n",
    "                      nn.ReLU(),\n",
    "                      nn.Linear(32,10))\n",
    "    else: \n",
    "        model = nn.Sequential(nn.Linear(28*28*1,128),\n",
    "                      #nn.ReLU(),\n",
    "                      nn.Linear(128,64),\n",
    "                      #nn.ReLU(), \n",
    "                      nn.Linear(64,32),\n",
    "                      #nn.ReLU(),\n",
    "                      nn.Linear(32,10))\n",
    "    return model\n",
    "shapes_activated = [128,128,64,64,32,32,10]\n",
    "shapes = [128,64,32,10]\n"
   ]
  },
  {
   "cell_type": "code",
   "execution_count": 127,
   "metadata": {},
   "outputs": [
    {
     "name": "stdout",
     "output_type": "stream",
     "text": [
      "Total number of parameters is: 111146\n",
      "ProgNet(\n",
      "  (columns): ModuleList(\n",
      "    (0): ModuleList(\n",
      "      (0): LateralBlock(\n",
      "        (block): Sequential(\n",
      "          (0): Linear(in_features=784, out_features=128, bias=True)\n",
      "        )\n",
      "        (u): ModuleList()\n",
      "      )\n",
      "      (1): LateralBlock(\n",
      "        (block): Sequential(\n",
      "          (2): Linear(in_features=128, out_features=64, bias=True)\n",
      "        )\n",
      "        (u): ModuleList()\n",
      "      )\n",
      "      (2): LateralBlock(\n",
      "        (block): Sequential(\n",
      "          (4): Linear(in_features=64, out_features=32, bias=True)\n",
      "        )\n",
      "        (u): ModuleList()\n",
      "      )\n",
      "      (3): LateralBlock(\n",
      "        (block): Sequential(\n",
      "          (6): Linear(in_features=32, out_features=10, bias=True)\n",
      "        )\n",
      "        (u): ModuleList()\n",
      "      )\n",
      "    )\n",
      "  )\n",
      ")\n"
     ]
    }
   ],
   "source": [
    "prog_net = ProgNet(depth = 3)\n",
    "dummy_net = make_column(activated = True).to(device)\n",
    "prog_net.new_task(copy.deepcopy(dummy_net)[0:7:2],shapes)\n",
    "prog_net = prog_net.to(device)\n",
    "\n",
    "\n",
    "params = sum(p.numel() for p in prog_net.parameters() if p.requires_grad)\n",
    "print(\"Total number of parameters is: {}\".format(params))\n",
    "print(prog_net)"
   ]
  },
  {
   "cell_type": "code",
   "execution_count": 128,
   "metadata": {},
   "outputs": [],
   "source": [
    "#data loading\n",
    "batch_size_train = 64\n",
    "batch_size_test = 1000\n",
    "\n",
    "dataset_train = torchvision.datasets.MNIST('./data', train=True, download=True,\n",
    "                                     transform = torchvision.transforms.Compose([\n",
    "                                                 torchvision.transforms.ToTensor(),\n",
    "                                                 torchvision.transforms.Normalize(\n",
    "                                                 (0.1307,), (0.3081,))]))\n",
    "dataset_test_0 = torchvision.datasets.MNIST('./data/', train=False, download=True,\n",
    "                             transform=torchvision.transforms.Compose([\n",
    "                               torchvision.transforms.ToTensor(),\n",
    "                               torchvision.transforms.Normalize(\n",
    "                                 (0.1307,), (0.3081,))\n",
    "                             ]))\n",
    "test_loader_full = torch.utils.data.DataLoader(\n",
    "  torchvision.datasets.MNIST('./data/', train=False, download=True,\n",
    "                             transform=torchvision.transforms.Compose([\n",
    "                               torchvision.transforms.ToTensor(),\n",
    "                               torchvision.transforms.Normalize(\n",
    "                                 (0.1307,), (0.3081,))\n",
    "                             ])),\n",
    "  batch_size=batch_size_test, shuffle=True)\n",
    "\n",
    "data = dataset_train.data\n",
    "data_test = dataset_test_0.data\n",
    "targets = dataset_train.targets\n",
    "targets_test = dataset_test_0.targets"
   ]
  },
  {
   "cell_type": "code",
   "execution_count": 129,
   "metadata": {},
   "outputs": [],
   "source": [
    "split_idx_train = [(dataset_train.targets ==i).tolist() for i in range(10)]\n",
    "split_idx_test =[(dataset_test_0.targets ==i).tolist() for i in range(10)]"
   ]
  },
  {
   "cell_type": "markdown",
   "metadata": {},
   "source": [
    "### Training phase  1 \n",
    "Column 0, digits 0 to 4"
   ]
  },
  {
   "cell_type": "code",
   "execution_count": 130,
   "metadata": {},
   "outputs": [],
   "source": [
    "mask_digits_train_0 = [any(tupl) for tupl in zip(split_idx_train[0],\n",
    "                                                   split_idx_train[1],\n",
    "                                                   split_idx_train[2],\n",
    "                                                   split_idx_train[3],\n",
    "                                                   split_idx_train[4])]\n",
    "\n",
    "mask_digits_test_0 = [any(tupl) for tupl in zip(split_idx_test[0],\n",
    "                                                   split_idx_test[1],\n",
    "                                                   split_idx_test[2],\n",
    "                                                   split_idx_test[3],\n",
    "                                                   split_idx_test[4])]\n",
    "dataset_train.data = data[mask_digits_train_0]\n",
    "dataset_train.targets = targets[mask_digits_train_0]\n",
    "\n",
    "dataset_test_0.data = data_test[mask_digits_test_0]\n",
    "dataset_test_0.targets = targets_test[mask_digits_test_0]\n",
    "\n",
    "train_loader = torch.utils.data.DataLoader(\n",
    "  dataset_train,\n",
    "  batch_size=batch_size_train, shuffle=True)\n",
    "\n",
    "test_loader_0 = torch.utils.data.DataLoader(\n",
    "  dataset_test_0,\n",
    "  batch_size=batch_size_test, shuffle=True)"
   ]
  },
  {
   "cell_type": "code",
   "execution_count": 131,
   "metadata": {},
   "outputs": [],
   "source": [
    "#Training\n",
    "learning_rate = 0.0001\n",
    "num_epochs = 10\n",
    "\n",
    "optimizer = optim.Adam(prog_net.parameters(),\n",
    "                       lr = learning_rate)\n",
    "optimizer_d = optim.Adam(dummy_net.parameters(),\n",
    "                       lr = learning_rate)\n",
    "criterion = F.cross_entropy"
   ]
  },
  {
   "cell_type": "code",
   "execution_count": 132,
   "metadata": {},
   "outputs": [],
   "source": [
    "def model_eval(model,dataloader,task_id = -1):\n",
    "    model.eval()\n",
    "    with torch.no_grad(): \n",
    "        eval_loss = 0\n",
    "        for batch_idx, data in enumerate(dataloader): \n",
    "            img,y = data\n",
    "            img = img.view(img.shape[0],-1)\n",
    "            img = img.to(device)\n",
    "            y = y.to(device)\n",
    "            if isinstance(model,ProgNet):\n",
    "                y_pred = model(img,task_id = task_id)\n",
    "            else: \n",
    "                y_pred = model(img)\n",
    "            loss = criterion(y_pred,y,reduction = 'mean')\n",
    "            eval_loss += loss.item()\n",
    "    \n",
    "    model.train()\n",
    "    return eval_loss/len(dataloader)"
   ]
  },
  {
   "cell_type": "code",
   "execution_count": 133,
   "metadata": {},
   "outputs": [
    {
     "name": "stdout",
     "output_type": "stream",
     "text": [
      "epoch [1/10], ProgNet loss:1.2708, DummyNet loss:0.5730\n",
      "epoch [2/10], ProgNet loss:0.3498, DummyNet loss:0.1199\n",
      "epoch [3/10], ProgNet loss:0.0980, DummyNet loss:0.0975\n",
      "epoch [4/10], ProgNet loss:0.0821, DummyNet loss:0.0839\n",
      "epoch [5/10], ProgNet loss:0.0700, DummyNet loss:0.0736\n",
      "epoch [6/10], ProgNet loss:0.0599, DummyNet loss:0.0653\n",
      "epoch [7/10], ProgNet loss:0.0517, DummyNet loss:0.0580\n",
      "epoch [8/10], ProgNet loss:0.0445, DummyNet loss:0.0517\n",
      "epoch [9/10], ProgNet loss:0.0389, DummyNet loss:0.0465\n",
      "epoch [10/10], ProgNet loss:0.0337, DummyNet loss:0.0414\n"
     ]
    }
   ],
   "source": [
    "train_losses = []\n",
    "train_losses_d = []\n",
    "test_losses_full = []\n",
    "test_losses = []\n",
    "test_losses_d_full = []\n",
    "test_losses_d = []\n",
    "\n",
    "prog_net.train()\n",
    "dummy_net.train()\n",
    "for epoch in range(num_epochs):\n",
    "    train_loss = 0\n",
    "    train_loss_d = 0\n",
    "    for batch_idx, data in enumerate(train_loader):\n",
    "        img, y = data\n",
    "        img = img.view(img.shape[0],-1)\n",
    "        img = img.to(device)\n",
    "        y = y.to(device)\n",
    "        \n",
    "        optimizer.zero_grad()\n",
    "        optimizer_d.zero_grad()\n",
    "        # forward\n",
    "        y_pred = prog_net(img)\n",
    "        y_pred_d = dummy_net(img)\n",
    "        loss = criterion(y_pred, y,reduction = 'mean')\n",
    "        loss_d = criterion(y_pred_d, y,reduction = 'mean')\n",
    "        # backward\n",
    "        loss.backward()\n",
    "        loss_d.backward()\n",
    "        train_loss += loss.item()\n",
    "        train_loss_d += loss_d.item()\n",
    "        optimizer.step()\n",
    "        optimizer_d.step()\n",
    "    print('epoch [{}/{}], ProgNet loss:{:.4f}, DummyNet loss:{:.4f}'\n",
    "          .format(epoch + 1, num_epochs, train_loss / len(train_loader),train_loss_d/len(train_loader)))\n",
    "\n",
    "    train_losses.append(train_loss/ len(train_loader))\n",
    "    train_losses_d.append(train_loss_d/ len(train_loader))\n",
    "    \n",
    "    test_losses.append(model_eval(prog_net,test_loader_0))\n",
    "    test_losses_d.append(model_eval(dummy_net,test_loader_0))\n",
    "    test_losses_full.append(model_eval(prog_net,test_loader_full))\n",
    "    test_losses_d_full.append(model_eval(dummy_net,test_loader_full))"
   ]
  },
  {
   "cell_type": "code",
   "execution_count": 134,
   "metadata": {},
   "outputs": [
    {
     "data": {
      "image/png": "[encoded data removed]",
      "text/plain": [
       "<Figure size 432x288 with 1 Axes>"
      ]
     },
     "metadata": {
      "needs_background": "light"
     },
     "output_type": "display_data"
    }
   ],
   "source": [
    "plt.plot(list(range(0,len(train_losses))), train_losses, label='loss ProgNet')\n",
    "plt.plot(list(range(0,len(train_losses_d))), train_losses_d, label='loss DummyNet')\n",
    "plt.legend()\n",
    "plt.title('Train Loss')\n",
    "plt.show()"
   ]
  },
  {
   "cell_type": "code",
   "execution_count": 135,
   "metadata": {},
   "outputs": [
    {
     "data": {
      "image/png": "[encoded data removed]",
      "text/plain": [
       "<Figure size 432x288 with 2 Axes>"
      ]
     },
     "metadata": {
      "needs_background": "light"
     },
     "output_type": "display_data"
    }
   ],
   "source": [
    "fig, (ax1, ax2) = plt.subplots(1,2)\n",
    "\n",
    "fig.suptitle('Test Loss')\n",
    "\n",
    "ax1.plot(list(range(0,len(test_losses))), test_losses, label='loss ProgNet')\n",
    "ax1.plot(list(range(0,len(test_losses_d))), test_losses_d, label='loss DummyNet')\n",
    "ax2.plot(list(range(0,len(test_losses_full))), test_losses_full, label='loss ProgNet:full')\n",
    "ax2.plot(list(range(0,len(test_losses_d_full))), test_losses_d_full, label='loss DummyNet:full')\n",
    "ax1.legend()\n",
    "ax2.legend()\n",
    "plt.show()"
   ]
  },
  {
   "cell_type": "markdown",
   "metadata": {},
   "source": [
    "### Training Phase 2\n",
    "Column 1, digits 5 to 9"
   ]
  },
  {
   "cell_type": "code",
   "execution_count": 136,
   "metadata": {},
   "outputs": [],
   "source": [
    "#data loading\n",
    "batch_size_train = 64\n",
    "batch_size_test = 1000\n",
    "\n",
    "dataset_train = torchvision.datasets.MNIST('./data', train=True, download=True,\n",
    "                                     transform = torchvision.transforms.Compose([\n",
    "                                                 torchvision.transforms.ToTensor(),\n",
    "                                                 torchvision.transforms.Normalize(\n",
    "                                                 (0.1307,), (0.3081,))]))\n",
    "dataset_test_1 = torchvision.datasets.MNIST('./data/', train=False, download=True,\n",
    "                             transform=torchvision.transforms.Compose([\n",
    "                               torchvision.transforms.ToTensor(),\n",
    "                               torchvision.transforms.Normalize(\n",
    "                                 (0.1307,), (0.3081,))\n",
    "                             ]))\n",
    "test_loader_full = torch.utils.data.DataLoader(\n",
    "  torchvision.datasets.MNIST('./data/', train=False, download=True,\n",
    "                             transform=torchvision.transforms.Compose([\n",
    "                               torchvision.transforms.ToTensor(),\n",
    "                               torchvision.transforms.Normalize(\n",
    "                                 (0.1307,), (0.3081,))\n",
    "                             ])),\n",
    "  batch_size=batch_size_test, shuffle=True)\n",
    "\n",
    "data = dataset_train.data\n",
    "data_test = dataset_test_1.data\n",
    "targets = dataset_train.targets\n",
    "targets_test = dataset_test_1.targets"
   ]
  },
  {
   "cell_type": "code",
   "execution_count": 137,
   "metadata": {},
   "outputs": [],
   "source": [
    "mask_digits_train_1 = [any(tupl) for tupl in zip(split_idx_train[5],\n",
    "                                                   split_idx_train[6],\n",
    "                                                   split_idx_train[7],\n",
    "                                                   split_idx_train[8],\n",
    "                                                   split_idx_train[9])]\n",
    "\n",
    "mask_digits_test_1 = [any(tupl) for tupl in zip(split_idx_test[5],\n",
    "                                                   split_idx_test[6],\n",
    "                                                   split_idx_test[7],\n",
    "                                                   split_idx_test[8],\n",
    "                                                   split_idx_test[9])]\n",
    "dataset_train.data = data[mask_digits_train_1]\n",
    "dataset_train.targets = targets[mask_digits_train_1]\n",
    "\n",
    "dataset_test_1.data = data_test[mask_digits_test_1]\n",
    "dataset_test_1.targets = targets_test[mask_digits_test_1]\n",
    "\n",
    "train_loader = torch.utils.data.DataLoader(\n",
    "  dataset_train,\n",
    "  batch_size=batch_size_train, shuffle=True)\n",
    "\n",
    "test_loader_1 = torch.utils.data.DataLoader(\n",
    "  dataset_test_1,\n",
    "  batch_size=batch_size_test, shuffle=True)"
   ]
  },
  {
   "cell_type": "code",
   "execution_count": 138,
   "metadata": {
    "scrolled": true
   },
   "outputs": [
    {
     "name": "stdout",
     "output_type": "stream",
     "text": [
      "Total number of parameters is: 121812\n",
      "ProgNet(\n",
      "  (columns): ModuleList(\n",
      "    (0): ModuleList(\n",
      "      (0): LateralBlock(\n",
      "        (block): Sequential(\n",
      "          (0): Linear(in_features=784, out_features=128, bias=True)\n",
      "        )\n",
      "        (u): ModuleList()\n",
      "      )\n",
      "      (1): LateralBlock(\n",
      "        (block): Sequential(\n",
      "          (2): Linear(in_features=128, out_features=64, bias=True)\n",
      "        )\n",
      "        (u): ModuleList()\n",
      "      )\n",
      "      (2): LateralBlock(\n",
      "        (block): Sequential(\n",
      "          (4): Linear(in_features=64, out_features=32, bias=True)\n",
      "        )\n",
      "        (u): ModuleList()\n",
      "      )\n",
      "      (3): LateralBlock(\n",
      "        (block): Sequential(\n",
      "          (6): Linear(in_features=32, out_features=10, bias=True)\n",
      "        )\n",
      "        (u): ModuleList()\n",
      "      )\n",
      "    )\n",
      "    (1): ModuleList(\n",
      "      (0): LateralBlock(\n",
      "        (block): Sequential(\n",
      "          (0): Linear(in_features=784, out_features=128, bias=True)\n",
      "        )\n",
      "        (u): ModuleList()\n",
      "      )\n",
      "      (1): LateralBlock(\n",
      "        (block): Sequential(\n",
      "          (1): Linear(in_features=128, out_features=64, bias=True)\n",
      "        )\n",
      "        (u): ModuleList(\n",
      "          (0): Linear(in_features=128, out_features=64, bias=True)\n",
      "        )\n",
      "      )\n",
      "      (2): LateralBlock(\n",
      "        (block): Sequential(\n",
      "          (2): Linear(in_features=64, out_features=32, bias=True)\n",
      "        )\n",
      "        (u): ModuleList(\n",
      "          (0): Linear(in_features=64, out_features=32, bias=True)\n",
      "        )\n",
      "      )\n",
      "      (3): LateralBlock(\n",
      "        (block): Sequential(\n",
      "          (3): Linear(in_features=32, out_features=10, bias=True)\n",
      "        )\n",
      "        (u): ModuleList(\n",
      "          (0): Linear(in_features=32, out_features=10, bias=True)\n",
      "        )\n",
      "      )\n",
      "    )\n",
      "  )\n",
      ")\n"
     ]
    }
   ],
   "source": [
    "prog_net.freeze_columns()\n",
    "prog_net.new_task(make_column(activated = False),shapes)\n",
    "prog_net = prog_net.to(device)\n",
    "\n",
    "params = sum(p.numel() for p in prog_net.parameters() if p.requires_grad)\n",
    "print(\"Total number of parameters is: {}\".format(params))\n",
    "print(prog_net)"
   ]
  },
  {
   "cell_type": "code",
   "execution_count": 139,
   "metadata": {},
   "outputs": [],
   "source": [
    "#Training\n",
    "learning_rate = 0.0001\n",
    "num_epochs = 10\n",
    "\n",
    "optimizer = optim.Adam(prog_net.parameters(),\n",
    "                       lr = learning_rate)\n",
    "optimizer_d = optim.Adam(dummy_net.parameters(),\n",
    "                       lr = learning_rate)\n",
    "criterion = F.cross_entropy"
   ]
  },
  {
   "cell_type": "code",
   "execution_count": 140,
   "metadata": {},
   "outputs": [
    {
     "name": "stdout",
     "output_type": "stream",
     "text": [
      "epoch [1/10], ProgNet loss:1.0051, DummyNet loss:2.2715\n",
      "epoch [2/10], ProgNet loss:0.1740, DummyNet loss:0.3080\n",
      "epoch [3/10], ProgNet loss:0.1336, DummyNet loss:0.1857\n",
      "epoch [4/10], ProgNet loss:0.1107, DummyNet loss:0.1481\n",
      "epoch [5/10], ProgNet loss:0.0951, DummyNet loss:0.1249\n",
      "epoch [6/10], ProgNet loss:0.0818, DummyNet loss:0.1065\n",
      "epoch [7/10], ProgNet loss:0.0725, DummyNet loss:0.0934\n",
      "epoch [8/10], ProgNet loss:0.0637, DummyNet loss:0.0823\n",
      "epoch [9/10], ProgNet loss:0.0567, DummyNet loss:0.0732\n",
      "epoch [10/10], ProgNet loss:0.0505, DummyNet loss:0.0655\n"
     ]
    }
   ],
   "source": [
    "prog_net.train()\n",
    "dummy_net.train()\n",
    "for epoch in range(num_epochs):\n",
    "    train_loss = 0\n",
    "    train_loss_d = 0\n",
    "    for batch_idx, data in enumerate(train_loader):\n",
    "        img, y = data\n",
    "        img = img.view(img.shape[0],-1)\n",
    "        img = img.to(device)\n",
    "        y = y.to(device)\n",
    "        optimizer.zero_grad()\n",
    "        optimizer_d.zero_grad()\n",
    "        # forward\n",
    "        y_pred = prog_net(img)\n",
    "        y_pred_d = dummy_net(img)\n",
    "        loss = criterion(y_pred, y,reduction = 'mean')\n",
    "        loss_d = criterion(y_pred_d, y,reduction = 'mean')\n",
    "        # backward\n",
    "        loss.backward()\n",
    "        loss_d.backward()\n",
    "        train_loss += loss.item()\n",
    "        train_loss_d += loss_d.item()\n",
    "        optimizer.step()\n",
    "        optimizer_d.step()\n",
    "    print('epoch [{}/{}], ProgNet loss:{:.4f}, DummyNet loss:{:.4f}'\n",
    "          .format(epoch + 1, num_epochs, train_loss / len(train_loader),train_loss_d/len(train_loader)))\n",
    "\n",
    "    train_losses.append(train_loss/ len(train_loader))\n",
    "    train_losses_d.append(train_loss_d/ len(train_loader))\n",
    "    \n",
    "    test_losses.append(model_eval(prog_net,test_loader_1,task_id = 1))\n",
    "    test_losses_d.append(model_eval(dummy_net,test_loader_1))\n",
    "    test_losses_full.append((model_eval(prog_net,test_loader_0,task_id = 0) + model_eval(prog_net,test_loader_1,task_id = 1))/2)\n",
    "    test_losses_d_full.append(model_eval(dummy_net,test_loader_full))"
   ]
  },
  {
   "cell_type": "code",
   "execution_count": 141,
   "metadata": {},
   "outputs": [
    {
     "data": {
      "image/png": "[encoded data removed]",
      "text/plain": [
       "<Figure size 432x288 with 1 Axes>"
      ]
     },
     "metadata": {
      "needs_background": "light"
     },
     "output_type": "display_data"
    }
   ],
   "source": [
    "plt.plot(list(range(0,len(train_losses))), train_losses, label='loss ProgNet')\n",
    "plt.plot(list(range(0,len(train_losses_d))), train_losses_d, label='loss DummyNet')\n",
    "plt.legend()\n",
    "plt.title('Train Loss')\n",
    "plt.show()"
   ]
  },
  {
   "cell_type": "code",
   "execution_count": 142,
   "metadata": {},
   "outputs": [
    {
     "data": {
      "image/png": "[encoded data removed]",
      "text/plain": [
       "<Figure size 432x288 with 2 Axes>"
      ]
     },
     "metadata": {
      "needs_background": "light"
     },
     "output_type": "display_data"
    }
   ],
   "source": [
    "fig, (ax1, ax2) = plt.subplots(1,2)\n",
    "\n",
    "fig.suptitle('Test Loss, Task 0: digits 0-4; Task 1: digits 5-9')\n",
    "\n",
    "ax1.plot(list(range(0,len(test_losses))), test_losses, label='loss ProgNet')\n",
    "ax1.plot(list(range(0,len(test_losses_d))), test_losses_d, label='loss DummyNet')\n",
    "ax2.plot(list(range(0,len(test_losses_full))), test_losses_full, label='loss ProgNet:full')\n",
    "ax2.plot(list(range(0,len(test_losses_d_full))), test_losses_d_full, label='loss DummyNet:full')\n",
    "ax1.set_title('Current task', y = - 0.2)\n",
    "ax2.set_title('Digits 0-9',y = - 0.2)\n",
    "ax1.legend()\n",
    "ax2.legend()\n",
    "plt.show()"
   ]
  },
  {
   "cell_type": "markdown",
   "metadata": {},
   "source": [
    "## Classification with ProgNet: Convolutional network"
   ]
  },
  {
   "cell_type": "code",
   "execution_count": null,
   "metadata": {},
   "outputs": [],
   "source": []
  }
 ],
 "metadata": {
  "kernelspec": {
   "display_name": "Python (prog-nets-env)",
   "language": "python",
   "name": "prog-nets-env"
  },
  "language_info": {
   "codemirror_mode": {
    "name": "ipython",
    "version": 3
   },
   "file_extension": ".py",
   "mimetype": "text/x-python",
   "name": "python",
   "nbconvert_exporter": "python",
   "pygments_lexer": "ipython3",
   "version": "3.6.9"
  }
 },
 "nbformat": 4,
 "nbformat_minor": 2
}
