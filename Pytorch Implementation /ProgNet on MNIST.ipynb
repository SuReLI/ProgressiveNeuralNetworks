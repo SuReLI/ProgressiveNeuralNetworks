{
 "cells": [
  {
   "cell_type": "code",
   "execution_count": 1,
   "metadata": {},
   "outputs": [],
   "source": [
    "import torch \n",
    "import torch.nn as nn \n",
    "import torch.nn.functional as F \n",
    "import torch.optim as optim\n",
    "import torchvision\n",
    "import copy\n",
    "import numpy as np\n",
    "import matplotlib.pyplot as plt\n",
    "%matplotlib inline\n",
    "plt.rcParams['figure.figsize'] = [10, 5]"
   ]
  },
  {
   "cell_type": "code",
   "execution_count": 2,
   "metadata": {},
   "outputs": [
    {
     "name": "stdout",
     "output_type": "stream",
     "text": [
      "cuda:0\n"
     ]
    }
   ],
   "source": [
    "GPU = True\n",
    "device_idx = 0\n",
    "if GPU:\n",
    "    device = torch.device(\"cuda:\" + str(device_idx) if torch.cuda.is_available() else \"cpu\")\n",
    "else:\n",
    "    device = torch.device(\"cpu\")\n",
    "print(device)"
   ]
  },
  {
   "cell_type": "code",
   "execution_count": 3,
   "metadata": {},
   "outputs": [],
   "source": [
    "class LateralBlock(nn.Module):\n",
    "    def __init__(self,col,depth,block,out_shape, in_shapes):\n",
    "        super(LateralBlock,self).__init__()\n",
    "        self.col = col\n",
    "        self.depth = depth \n",
    "        self.out_shape = out_shape\n",
    "        self.block = block\n",
    "        self.u = nn.ModuleList()\n",
    "        \n",
    "        \n",
    "        if self.depth > 0: \n",
    "            self.u.extend([nn.Linear(in_shape,self.out_shape) for in_shape in in_shapes])\n",
    "\n",
    "\n",
    "    def forward(self,inputs,activated = True):\n",
    "        if not isinstance(inputs, list):\n",
    "            inputs = [inputs]\n",
    "\n",
    "        cur_column_out = self.block(inputs[-1])\n",
    "        prev_columns_out = [mod(x) for mod, x in zip(self.u, inputs)] \n",
    "        res= cur_column_out + sum(prev_columns_out)\n",
    "        if activated: \n",
    "            res = F.relu(res)\n",
    "        return res\n",
    "    \n",
    "        \n",
    "\n",
    "class ProgNet(nn.Module):\n",
    "    def __init__(self,depth):\n",
    "        super(ProgNet,self).__init__()\n",
    "        \n",
    "        self.columns = nn.ModuleList([])\n",
    "        self.depth = depth\n",
    "        \n",
    "    \n",
    "    def forward(self,x,task_id=-1):\n",
    "        assert self.columns\n",
    "\n",
    "        inputs = [col[0](x) for col in self.columns]\n",
    "        for l in range(1,self.depth):\n",
    "            out = []         \n",
    "            for i,col in enumerate(self.columns):\n",
    "                out.append(col[l](inputs[:i+1],activated = (l== self.depth - 1)))\n",
    "\n",
    "            inputs = out\n",
    "        return out[task_id]\n",
    "        \n",
    "    def new_task(self,new_layers,shapes):\n",
    "        assert isinstance(new_layers,nn.Sequential)\n",
    "        assert(len(new_layers) == len(shapes))\n",
    "        \n",
    "        task_id = len(self.columns)\n",
    "        idx =[i for i,layer in enumerate(new_layers) if isinstance(layer,(nn.Conv2d,nn.Linear))] + [len(new_layers)]\n",
    "        new_blocks = []\n",
    "        \n",
    "        for k in range(len(idx) -1): \n",
    "            prev_blocks = []\n",
    "            if k > 0: \n",
    "                prev_blocks = [col[k-1] for col in self.columns]\n",
    "                \n",
    "            new_blocks.append(LateralBlock(col = task_id,\n",
    "                                           depth = k,\n",
    "                                           block = new_layers[idx[k]:idx[k+1]],\n",
    "                                           out_shape = shapes[idx[k+1]-1],\n",
    "                                           in_shapes = self._get_out_shape_blocks(prev_blocks)\n",
    "                                          ))\n",
    "        \n",
    "        new_column = nn.ModuleList(new_blocks)\n",
    "        self.columns.append(new_column)\n",
    "            \n",
    "            \n",
    "        \n",
    "    def _get_out_shape_blocks(self,blocks):\n",
    "        assert isinstance(blocks,list)\n",
    "        assert all(isinstance(block,LateralBlock) for block in blocks)\n",
    "        return [block.out_shape for block in blocks]\n",
    "        \n",
    "        \n",
    "    \n",
    "    def freeze_columns(self, skip=None):\n",
    "        if skip == None:\n",
    "            skip = []\n",
    "\n",
    "        for i, c in enumerate(self.columns):\n",
    "            if i not in skip:\n",
    "                for params in c.parameters():\n",
    "                    params.requires_grad = False"
   ]
  },
  {
   "cell_type": "code",
   "execution_count": 4,
   "metadata": {},
   "outputs": [
    {
     "name": "stdout",
     "output_type": "stream",
     "text": [
      "Total number of parameters is: 609\n"
     ]
    }
   ],
   "source": [
    "net = nn.Sequential(\n",
    "            nn.Linear(1,16),\n",
    "            nn.ReLU(),\n",
    "            nn.Linear(16,32),\n",
    "            nn.ReLU(),\n",
    "            nn.Linear(32,1))\n",
    "shapes = [16,16,32,32,1]\n",
    "params = sum(p.numel() for p in net.parameters() if p.requires_grad)\n",
    "print(\"Total number of parameters is: {}\".format(params))"
   ]
  },
  {
   "cell_type": "code",
   "execution_count": 5,
   "metadata": {},
   "outputs": [
    {
     "name": "stdout",
     "output_type": "stream",
     "text": [
      "Total number of parameters is: 0\n"
     ]
    }
   ],
   "source": [
    "pg = ProgNet(5)\n",
    "params = sum(p.numel() for p in pg.parameters() if p.requires_grad)\n",
    "print(\"Total number of parameters is: {}\".format(params))"
   ]
  },
  {
   "cell_type": "code",
   "execution_count": 6,
   "metadata": {},
   "outputs": [
    {
     "name": "stdout",
     "output_type": "stream",
     "text": [
      "Total number of parameters is: 609\n"
     ]
    }
   ],
   "source": [
    "pg.new_task(net,shapes)\n",
    "params = sum(p.numel() for p in pg.parameters() if p.requires_grad)\n",
    "print(\"Total number of parameters is: {}\".format(params))"
   ]
  },
  {
   "cell_type": "code",
   "execution_count": 7,
   "metadata": {},
   "outputs": [
    {
     "name": "stdout",
     "output_type": "stream",
     "text": [
      "Total number of parameters is: 1186\n"
     ]
    }
   ],
   "source": [
    "pg.new_task(net,shapes)\n",
    "params = sum(p.numel() for p in pg.parameters() if p.requires_grad)\n",
    "print(\"Total number of parameters is: {}\".format(params))"
   ]
  },
  {
   "cell_type": "code",
   "execution_count": 8,
   "metadata": {},
   "outputs": [
    {
     "data": {
      "text/plain": [
       "ModuleList(\n",
       "  (0): LateralBlock(\n",
       "    (block): Sequential(\n",
       "      (0): Linear(in_features=1, out_features=16, bias=True)\n",
       "      (1): ReLU()\n",
       "    )\n",
       "    (u): ModuleList()\n",
       "  )\n",
       "  (1): LateralBlock(\n",
       "    (block): Sequential(\n",
       "      (2): Linear(in_features=16, out_features=32, bias=True)\n",
       "      (3): ReLU()\n",
       "    )\n",
       "    (u): ModuleList(\n",
       "      (0): Linear(in_features=16, out_features=32, bias=True)\n",
       "    )\n",
       "  )\n",
       "  (2): LateralBlock(\n",
       "    (block): Sequential(\n",
       "      (4): Linear(in_features=32, out_features=1, bias=True)\n",
       "    )\n",
       "    (u): ModuleList(\n",
       "      (0): Linear(in_features=32, out_features=1, bias=True)\n",
       "    )\n",
       "  )\n",
       ")"
      ]
     },
     "execution_count": 8,
     "metadata": {},
     "output_type": "execute_result"
    }
   ],
   "source": [
    "pg.columns[1]"
   ]
  },
  {
   "cell_type": "code",
   "execution_count": 9,
   "metadata": {},
   "outputs": [],
   "source": [
    "net = nn.Sequential(\n",
    "        nn.Conv2d(1,4,3,stride = 1, padding = 1), #out: (B,4,28,28)\n",
    "        nn.ReLU(), \n",
    "        nn.BatchNorm2d(4),\n",
    "        nn.MaxPool2d(2,stride = 2), #out: (B,4,14,14)\n",
    "        nn.Conv2d(4,16,3,stride = 1, padding = 1), #out: (B,16,14,14)\n",
    "        nn.ReLU(), \n",
    "        nn.BatchNorm2d(16),\n",
    "        nn.MaxPool2d(2,stride = 2), #out: (B,16,7,7)\n",
    "        nn.Conv2d(16,32,3,stride = 1, padding = 1), #out: (B,32,7,7)\n",
    "        nn.ReLU(), \n",
    "        nn.BatchNorm2d(32),\n",
    "        nn.MaxPool2d(2,stride = 2), #out: (B,32,3,3)\n",
    "        nn.Flatten(),\n",
    "        nn.Linear(in_features = 32*3*3,out_features = 128),\n",
    "        nn.ReLU(),\n",
    "        nn.Dropout(),\n",
    "        nn.Linear(in_features = 128, out_features = 64), \n",
    "        nn.ReLU(),\n",
    "        nn.Dropout(),\n",
    "        nn.Linear(in_features = 64, out_features = 10))\n",
    "\n",
    "shapes = [(4,28,28),\n",
    "          (4,28,28),\n",
    "          (4,28,28),\n",
    "          (4,14,14),\n",
    "          (16,14,14),\n",
    "          (16,14,14),\n",
    "          (16,14,14),\n",
    "          (16,7,7),\n",
    "          (32,7,7),\n",
    "          (32,7,7),\n",
    "          (32,7,7),\n",
    "          (32,3,3),\n",
    "          (128),\n",
    "          (64),\n",
    "          (10)]"
   ]
  },
  {
   "cell_type": "code",
   "execution_count": 10,
   "metadata": {},
   "outputs": [
    {
     "name": "stdout",
     "output_type": "stream",
     "text": [
      "Sequential(\n",
      "  (0): Conv2d(1, 4, kernel_size=(3, 3), stride=(1, 1), padding=(1, 1))\n",
      "  (1): ReLU()\n",
      "  (2): BatchNorm2d(4, eps=1e-05, momentum=0.1, affine=True, track_running_stats=True)\n",
      "  (3): MaxPool2d(kernel_size=2, stride=2, padding=0, dilation=1, ceil_mode=False)\n",
      ")\n",
      "Sequential(\n",
      "  (4): Conv2d(4, 16, kernel_size=(3, 3), stride=(1, 1), padding=(1, 1))\n",
      "  (5): ReLU()\n",
      "  (6): BatchNorm2d(16, eps=1e-05, momentum=0.1, affine=True, track_running_stats=True)\n",
      "  (7): MaxPool2d(kernel_size=2, stride=2, padding=0, dilation=1, ceil_mode=False)\n",
      ")\n",
      "Sequential(\n",
      "  (8): Conv2d(16, 32, kernel_size=(3, 3), stride=(1, 1), padding=(1, 1))\n",
      "  (9): ReLU()\n",
      "  (10): BatchNorm2d(32, eps=1e-05, momentum=0.1, affine=True, track_running_stats=True)\n",
      "  (11): MaxPool2d(kernel_size=2, stride=2, padding=0, dilation=1, ceil_mode=False)\n",
      "  (12): Flatten()\n",
      ")\n",
      "Sequential(\n",
      "  (13): Linear(in_features=288, out_features=128, bias=True)\n",
      "  (14): ReLU()\n",
      "  (15): Dropout(p=0.5, inplace=False)\n",
      ")\n",
      "Sequential(\n",
      "  (16): Linear(in_features=128, out_features=64, bias=True)\n",
      "  (17): ReLU()\n",
      "  (18): Dropout(p=0.5, inplace=False)\n",
      ")\n"
     ]
    }
   ],
   "source": [
    "idx = [i for i,layer in enumerate(net) if isinstance(layer,(nn.Conv2d,nn.Linear))]\n",
    "for k in range(len(idx) -1): \n",
    "    print(net[idx[k]:idx[k+1]])"
   ]
  },
  {
   "cell_type": "code",
   "execution_count": 11,
   "metadata": {},
   "outputs": [
    {
     "data": {
      "text/plain": [
       "torch.nn.modules.container.Sequential"
      ]
     },
     "execution_count": 11,
     "metadata": {},
     "output_type": "execute_result"
    }
   ],
   "source": [
    "type(net[0:4])"
   ]
  },
  {
   "cell_type": "markdown",
   "metadata": {},
   "source": [
    "# MNIST Classification"
   ]
  },
  {
   "cell_type": "code",
   "execution_count": 12,
   "metadata": {},
   "outputs": [],
   "source": [
    "#data loading\n",
    "batch_size_train = 64\n",
    "batch_size_test = 1000\n",
    "train_loader = torch.utils.data.DataLoader(\n",
    "  torchvision.datasets.MNIST('./data', train=True, download=True,\n",
    "                             transform=torchvision.transforms.Compose([\n",
    "                               torchvision.transforms.ToTensor(),\n",
    "                               torchvision.transforms.Normalize(\n",
    "                                 (0.1307,), (0.3081,))\n",
    "                             ])),\n",
    "  batch_size=batch_size_train, shuffle=True)\n",
    "\n",
    "test_loader = torch.utils.data.DataLoader(\n",
    "  torchvision.datasets.MNIST('./data/', train=False, download=True,\n",
    "                             transform=torchvision.transforms.Compose([\n",
    "                               torchvision.transforms.ToTensor(),\n",
    "                               torchvision.transforms.Normalize(\n",
    "                                 (0.1307,), (0.3081,))\n",
    "                             ])),\n",
    "  batch_size=batch_size_test, shuffle=True)"
   ]
  },
  {
   "cell_type": "code",
   "execution_count": 13,
   "metadata": {},
   "outputs": [],
   "source": [
    "data = next(iter(train_loader))"
   ]
  },
  {
   "cell_type": "code",
   "execution_count": 14,
   "metadata": {},
   "outputs": [
    {
     "data": {
      "text/plain": [
       "torch.Size([64, 10])"
      ]
     },
     "execution_count": 14,
     "metadata": {},
     "output_type": "execute_result"
    }
   ],
   "source": [
    "img,_ = data\n",
    "net(img).shape"
   ]
  },
  {
   "cell_type": "code",
   "execution_count": 15,
   "metadata": {},
   "outputs": [],
   "source": [
    "#model definition\n",
    "class MyNet(nn.Module):\n",
    "    def __init__(self):\n",
    "        super(MyNet, self).__init__()\n",
    "        \n",
    "        self.conv_layers = nn.Sequential(\n",
    "        nn.Conv2d(1,4,3,stride = 1, padding = 1), #out: (B,4,28,28)\n",
    "        nn.ReLU(), \n",
    "        nn.BatchNorm2d(4),\n",
    "        nn.MaxPool2d(2,stride = 2), #out: (B,4,14,14)\n",
    "        nn.Conv2d(4,16,3,stride = 1, padding = 1), #out: (B,16,14,14)\n",
    "        nn.ReLU(), \n",
    "        nn.BatchNorm2d(16),\n",
    "        nn.MaxPool2d(2,stride = 2), #out: (B,16,7,7)\n",
    "        nn.Conv2d(16,32,3,stride = 1, padding = 1), #out: (B,32,7,7)\n",
    "        nn.ReLU(), \n",
    "        nn.BatchNorm2d(32),\n",
    "        nn.MaxPool2d(2,stride = 2)) #out: (B,32,3,3)\n",
    "        \n",
    "        self.classifier = nn.Sequential(\n",
    "        nn.Linear(in_features = 32*3*3,out_features = 128),\n",
    "        nn.ReLU(),\n",
    "        nn.Dropout(),\n",
    "        nn.Linear(in_features = 128, out_features = 64), \n",
    "        nn.ReLU(),\n",
    "        nn.Dropout(),\n",
    "        nn.Linear(in_features = 64, out_features = 10))\n",
    "        \n",
    "    def forward(self,x):\n",
    "        x = self.conv_layers(x)\n",
    "        x = x.view(x.shape[0],-1)\n",
    "        x = self.classifier(x)\n",
    "        return x"
   ]
  },
  {
   "cell_type": "code",
   "execution_count": 16,
   "metadata": {},
   "outputs": [
    {
     "name": "stdout",
     "output_type": "stream",
     "text": [
      "Total number of parameters is: 51274\n",
      "MyNet(\n",
      "  (conv_layers): Sequential(\n",
      "    (0): Conv2d(1, 4, kernel_size=(3, 3), stride=(1, 1), padding=(1, 1))\n",
      "    (1): ReLU()\n",
      "    (2): BatchNorm2d(4, eps=1e-05, momentum=0.1, affine=True, track_running_stats=True)\n",
      "    (3): MaxPool2d(kernel_size=2, stride=2, padding=0, dilation=1, ceil_mode=False)\n",
      "    (4): Conv2d(4, 16, kernel_size=(3, 3), stride=(1, 1), padding=(1, 1))\n",
      "    (5): ReLU()\n",
      "    (6): BatchNorm2d(16, eps=1e-05, momentum=0.1, affine=True, track_running_stats=True)\n",
      "    (7): MaxPool2d(kernel_size=2, stride=2, padding=0, dilation=1, ceil_mode=False)\n",
      "    (8): Conv2d(16, 32, kernel_size=(3, 3), stride=(1, 1), padding=(1, 1))\n",
      "    (9): ReLU()\n",
      "    (10): BatchNorm2d(32, eps=1e-05, momentum=0.1, affine=True, track_running_stats=True)\n",
      "    (11): MaxPool2d(kernel_size=2, stride=2, padding=0, dilation=1, ceil_mode=False)\n",
      "  )\n",
      "  (classifier): Sequential(\n",
      "    (0): Linear(in_features=288, out_features=128, bias=True)\n",
      "    (1): ReLU()\n",
      "    (2): Dropout(p=0.5, inplace=False)\n",
      "    (3): Linear(in_features=128, out_features=64, bias=True)\n",
      "    (4): ReLU()\n",
      "    (5): Dropout(p=0.5, inplace=False)\n",
      "    (6): Linear(in_features=64, out_features=10, bias=True)\n",
      "  )\n",
      ")\n"
     ]
    }
   ],
   "source": [
    "model = MyNet()\n",
    "params = sum(p.numel() for p in model.parameters() if p.requires_grad)\n",
    "print(\"Total number of parameters is: {}\".format(params))\n",
    "print(model)"
   ]
  },
  {
   "cell_type": "code",
   "execution_count": 17,
   "metadata": {},
   "outputs": [],
   "source": [
    "#Training\n",
    "learning_rate = 0.001\n",
    "num_epochs = 10\n",
    "\n",
    "optimizer = optim.Adam(model.parameters(),\n",
    "                       lr = learning_rate)\n",
    "criterion = F.cross_entropy\n"
   ]
  },
  {
   "cell_type": "code",
   "execution_count": 18,
   "metadata": {},
   "outputs": [
    {
     "name": "stdout",
     "output_type": "stream",
     "text": [
      "epoch [1/10], loss:0.3181\n",
      "epoch [2/10], loss:0.1005\n",
      "epoch [3/10], loss:0.0778\n",
      "epoch [4/10], loss:0.0686\n",
      "epoch [5/10], loss:0.0610\n",
      "epoch [6/10], loss:0.0569\n",
      "epoch [7/10], loss:0.0510\n",
      "epoch [8/10], loss:0.0457\n",
      "epoch [9/10], loss:0.0451\n",
      "epoch [10/10], loss:0.0452\n"
     ]
    }
   ],
   "source": [
    "train_losses = []\n",
    "model.train()\n",
    "for epoch in range(num_epochs):\n",
    "    train_loss = 0\n",
    "    for batch_idx, data in enumerate(train_loader):\n",
    "        img, y = data\n",
    "        optimizer.zero_grad()\n",
    "        # forward\n",
    "        y_pred = model(img)\n",
    "        loss = criterion(y_pred, y,reduction = 'mean')\n",
    "        # backward\n",
    "        loss.backward()\n",
    "        train_loss += loss.item()\n",
    "        optimizer.step()      \n",
    "    print('epoch [{}/{}], loss:{:.4f}'\n",
    "          .format(epoch + 1, num_epochs, train_loss / len(train_loader)))\n",
    "\n",
    "    train_losses.append(train_loss/ len(train_loader))\n",
    "\n",
    "\n"
   ]
  },
  {
   "cell_type": "markdown",
   "metadata": {},
   "source": [
    "## Classification with ProgNet: fully connected network"
   ]
  },
  {
   "cell_type": "code",
   "execution_count": 19,
   "metadata": {},
   "outputs": [],
   "source": [
    "def make_column(activated = True): \n",
    "    if activated: \n",
    "        model = nn.Sequential(nn.Linear(28*28*1,128),\n",
    "                      nn.ReLU(),\n",
    "                      nn.Linear(128,64),\n",
    "                      nn.ReLU(), \n",
    "                      nn.Linear(64,32),\n",
    "                      nn.ReLU(),\n",
    "                      nn.Linear(32,10))\n",
    "    else: \n",
    "        model = nn.Sequential(nn.Linear(28*28*1,128),\n",
    "                      #nn.ReLU(),\n",
    "                      nn.Linear(128,64),\n",
    "                      #nn.ReLU(), \n",
    "                      nn.Linear(64,32),\n",
    "                      #nn.ReLU(),\n",
    "                      nn.Linear(32,10))\n",
    "    return model\n",
    "shapes_activated = [128,128,64,64,32,32,10]\n",
    "shapes = [128,64,32,10]\n"
   ]
  },
  {
   "cell_type": "code",
   "execution_count": 20,
   "metadata": {},
   "outputs": [
    {
     "name": "stdout",
     "output_type": "stream",
     "text": [
      "Total number of parameters is: 111146\n",
      "ProgNet(\n",
      "  (columns): ModuleList(\n",
      "    (0): ModuleList(\n",
      "      (0): LateralBlock(\n",
      "        (block): Sequential(\n",
      "          (0): Linear(in_features=784, out_features=128, bias=True)\n",
      "        )\n",
      "        (u): ModuleList()\n",
      "      )\n",
      "      (1): LateralBlock(\n",
      "        (block): Sequential(\n",
      "          (2): Linear(in_features=128, out_features=64, bias=True)\n",
      "        )\n",
      "        (u): ModuleList()\n",
      "      )\n",
      "      (2): LateralBlock(\n",
      "        (block): Sequential(\n",
      "          (4): Linear(in_features=64, out_features=32, bias=True)\n",
      "        )\n",
      "        (u): ModuleList()\n",
      "      )\n",
      "      (3): LateralBlock(\n",
      "        (block): Sequential(\n",
      "          (6): Linear(in_features=32, out_features=10, bias=True)\n",
      "        )\n",
      "        (u): ModuleList()\n",
      "      )\n",
      "    )\n",
      "  )\n",
      ")\n"
     ]
    }
   ],
   "source": [
    "prog_net = ProgNet(depth = 3)\n",
    "dummy_net = make_column(activated = True).to(device)\n",
    "prog_net.new_task(copy.deepcopy(dummy_net)[0:7:2],shapes)\n",
    "prog_net = prog_net.to(device)\n",
    "\n",
    "\n",
    "params = sum(p.numel() for p in prog_net.parameters() if p.requires_grad)\n",
    "print(\"Total number of parameters is: {}\".format(params))\n",
    "print(prog_net)"
   ]
  },
  {
   "cell_type": "code",
   "execution_count": 21,
   "metadata": {},
   "outputs": [],
   "source": [
    "#data loading\n",
    "batch_size_train = 64\n",
    "batch_size_test = 1000\n",
    "\n",
    "dataset_train = torchvision.datasets.MNIST('./data', train=True, download=True,\n",
    "                                     transform = torchvision.transforms.Compose([\n",
    "                                                 torchvision.transforms.ToTensor(),\n",
    "                                                 torchvision.transforms.Normalize(\n",
    "                                                 (0.1307,), (0.3081,))]))\n",
    "dataset_test_0 = torchvision.datasets.MNIST('./data/', train=False, download=True,\n",
    "                             transform=torchvision.transforms.Compose([\n",
    "                               torchvision.transforms.ToTensor(),\n",
    "                               torchvision.transforms.Normalize(\n",
    "                                 (0.1307,), (0.3081,))\n",
    "                             ]))\n",
    "test_loader_full = torch.utils.data.DataLoader(\n",
    "  torchvision.datasets.MNIST('./data/', train=False, download=True,\n",
    "                             transform=torchvision.transforms.Compose([\n",
    "                               torchvision.transforms.ToTensor(),\n",
    "                               torchvision.transforms.Normalize(\n",
    "                                 (0.1307,), (0.3081,))\n",
    "                             ])),\n",
    "  batch_size=batch_size_test, shuffle=True)\n",
    "\n",
    "data = dataset_train.data\n",
    "data_test = dataset_test_0.data\n",
    "targets = dataset_train.targets\n",
    "targets_test = dataset_test_0.targets"
   ]
  },
  {
   "cell_type": "code",
   "execution_count": 22,
   "metadata": {},
   "outputs": [],
   "source": [
    "split_idx_train = [(dataset_train.targets ==i).tolist() for i in range(10)]\n",
    "split_idx_test =[(dataset_test_0.targets ==i).tolist() for i in range(10)]"
   ]
  },
  {
   "cell_type": "markdown",
   "metadata": {},
   "source": [
    "### Training phase  1 \n",
    "Column 0, digits 0 to 4"
   ]
  },
  {
   "cell_type": "code",
   "execution_count": 23,
   "metadata": {},
   "outputs": [],
   "source": [
    "mask_digits_train_0 = [any(tupl) for tupl in zip(split_idx_train[0],\n",
    "                                                   split_idx_train[1],\n",
    "                                                   split_idx_train[2],\n",
    "                                                   split_idx_train[3],\n",
    "                                                   split_idx_train[4])]\n",
    "\n",
    "mask_digits_test_0 = [any(tupl) for tupl in zip(split_idx_test[0],\n",
    "                                                   split_idx_test[1],\n",
    "                                                   split_idx_test[2],\n",
    "                                                   split_idx_test[3],\n",
    "                                                   split_idx_test[4])]\n",
    "dataset_train.data = data[mask_digits_train_0]\n",
    "dataset_train.targets = targets[mask_digits_train_0]\n",
    "\n",
    "dataset_test_0.data = data_test[mask_digits_test_0]\n",
    "dataset_test_0.targets = targets_test[mask_digits_test_0]\n",
    "\n",
    "train_loader = torch.utils.data.DataLoader(\n",
    "  dataset_train,\n",
    "  batch_size=batch_size_train, shuffle=True)\n",
    "\n",
    "test_loader_0 = torch.utils.data.DataLoader(\n",
    "  dataset_test_0,\n",
    "  batch_size=batch_size_test, shuffle=True)"
   ]
  },
  {
   "cell_type": "code",
   "execution_count": 24,
   "metadata": {},
   "outputs": [],
   "source": [
    "#Training\n",
    "learning_rate = 0.0001\n",
    "num_epochs = 10\n",
    "\n",
    "optimizer = optim.Adam(prog_net.parameters(),\n",
    "                       lr = learning_rate)\n",
    "optimizer_d = optim.Adam(dummy_net.parameters(),\n",
    "                       lr = learning_rate)\n",
    "criterion = F.cross_entropy"
   ]
  },
  {
   "cell_type": "code",
   "execution_count": 25,
   "metadata": {},
   "outputs": [],
   "source": [
    "def model_eval(model,dataloader,task_id = -1):\n",
    "    model.eval()\n",
    "    with torch.no_grad(): \n",
    "        eval_loss = 0\n",
    "        for batch_idx, data in enumerate(dataloader): \n",
    "            img,y = data\n",
    "            img = img.view(img.shape[0],-1)\n",
    "            img = img.to(device)\n",
    "            y = y.to(device)\n",
    "            if isinstance(model,ProgNet):\n",
    "                y_pred = model(img,task_id = task_id)\n",
    "            else: \n",
    "                y_pred = model(img)\n",
    "            loss = criterion(y_pred,y,reduction = 'mean')\n",
    "            eval_loss += loss.item()\n",
    "    \n",
    "    model.train()\n",
    "    return eval_loss/len(dataloader)"
   ]
  },
  {
   "cell_type": "code",
   "execution_count": 26,
   "metadata": {},
   "outputs": [
    {
     "name": "stdout",
     "output_type": "stream",
     "text": [
      "epoch [1/10], ProgNet loss:0.7976, DummyNet loss:0.5948\n",
      "epoch [2/10], ProgNet loss:0.1145, DummyNet loss:0.1199\n",
      "epoch [3/10], ProgNet loss:0.0888, DummyNet loss:0.0971\n",
      "epoch [4/10], ProgNet loss:0.0737, DummyNet loss:0.0849\n",
      "epoch [5/10], ProgNet loss:0.0626, DummyNet loss:0.0750\n",
      "epoch [6/10], ProgNet loss:0.0547, DummyNet loss:0.0675\n",
      "epoch [7/10], ProgNet loss:0.0476, DummyNet loss:0.0604\n",
      "epoch [8/10], ProgNet loss:0.0411, DummyNet loss:0.0542\n",
      "epoch [9/10], ProgNet loss:0.0366, DummyNet loss:0.0498\n",
      "epoch [10/10], ProgNet loss:0.0335, DummyNet loss:0.0464\n"
     ]
    }
   ],
   "source": [
    "train_losses = []\n",
    "train_losses_d = []\n",
    "test_losses_full = []\n",
    "test_losses = []\n",
    "test_losses_d_full = []\n",
    "test_losses_d = []\n",
    "\n",
    "prog_net.train()\n",
    "dummy_net.train()\n",
    "for epoch in range(num_epochs):\n",
    "    train_loss = 0\n",
    "    train_loss_d = 0\n",
    "    for batch_idx, data in enumerate(train_loader):\n",
    "        img, y = data\n",
    "        img = img.view(img.shape[0],-1)\n",
    "        img = img.to(device)\n",
    "        y = y.to(device)\n",
    "        \n",
    "        optimizer.zero_grad()\n",
    "        optimizer_d.zero_grad()\n",
    "        # forward\n",
    "        y_pred = prog_net(img)\n",
    "        y_pred_d = dummy_net(img)\n",
    "        loss = criterion(y_pred, y,reduction = 'mean')\n",
    "        loss_d = criterion(y_pred_d, y,reduction = 'mean')\n",
    "        # backward\n",
    "        loss.backward()\n",
    "        loss_d.backward()\n",
    "        train_loss += loss.item()\n",
    "        train_loss_d += loss_d.item()\n",
    "        optimizer.step()\n",
    "        optimizer_d.step()\n",
    "    print('epoch [{}/{}], ProgNet loss:{:.4f}, DummyNet loss:{:.4f}'\n",
    "          .format(epoch + 1, num_epochs, train_loss / len(train_loader),train_loss_d/len(train_loader)))\n",
    "\n",
    "    train_losses.append(train_loss/ len(train_loader))\n",
    "    train_losses_d.append(train_loss_d/ len(train_loader))\n",
    "    \n",
    "    test_losses.append(model_eval(prog_net,test_loader_0))\n",
    "    test_losses_d.append(model_eval(dummy_net,test_loader_0))\n",
    "    test_losses_full.append(model_eval(prog_net,test_loader_full))\n",
    "    test_losses_d_full.append(model_eval(dummy_net,test_loader_full))"
   ]
  },
  {
   "cell_type": "code",
   "execution_count": 27,
   "metadata": {},
   "outputs": [
    {
     "data": {
      "image/png": "[encoded data removed]",
      "text/plain": [
       "<Figure size 432x288 with 1 Axes>"
      ]
     },
     "metadata": {
      "needs_background": "light"
     },
     "output_type": "display_data"
    }
   ],
   "source": [
    "plt.plot(list(range(0,len(train_losses))), train_losses, label='loss ProgNet')\n",
    "plt.plot(list(range(0,len(train_losses_d))), train_losses_d, label='loss DummyNet')\n",
    "plt.legend()\n",
    "plt.title('Train Loss')\n",
    "plt.show()"
   ]
  },
  {
   "cell_type": "code",
   "execution_count": 28,
   "metadata": {},
   "outputs": [
    {
     "data": {
      "image/png": "[encoded data removed]",
      "text/plain": [
       "<Figure size 432x288 with 2 Axes>"
      ]
     },
     "metadata": {
      "needs_background": "light"
     },
     "output_type": "display_data"
    }
   ],
   "source": [
    "fig, (ax1, ax2) = plt.subplots(1,2)\n",
    "\n",
    "fig.suptitle('Test Loss')\n",
    "\n",
    "ax1.plot(list(range(0,len(test_losses))), test_losses, label='loss ProgNet')\n",
    "ax1.plot(list(range(0,len(test_losses_d))), test_losses_d, label='loss DummyNet')\n",
    "ax2.plot(list(range(0,len(test_losses_full))), test_losses_full, label='loss ProgNet:full')\n",
    "ax2.plot(list(range(0,len(test_losses_d_full))), test_losses_d_full, label='loss DummyNet:full')\n",
    "ax1.legend()\n",
    "ax2.legend()\n",
    "plt.show()"
   ]
  },
  {
   "cell_type": "markdown",
   "metadata": {},
   "source": [
    "### Training Phase 2\n",
    "Column 1, digits 5 to 9"
   ]
  },
  {
   "cell_type": "code",
   "execution_count": 29,
   "metadata": {},
   "outputs": [],
   "source": [
    "#data loading\n",
    "batch_size_train = 64\n",
    "batch_size_test = 1000\n",
    "\n",
    "dataset_train = torchvision.datasets.MNIST('./data', train=True, download=True,\n",
    "                                     transform = torchvision.transforms.Compose([\n",
    "                                                 torchvision.transforms.ToTensor(),\n",
    "                                                 torchvision.transforms.Normalize(\n",
    "                                                 (0.1307,), (0.3081,))]))\n",
    "dataset_test_1 = torchvision.datasets.MNIST('./data/', train=False, download=True,\n",
    "                             transform=torchvision.transforms.Compose([\n",
    "                               torchvision.transforms.ToTensor(),\n",
    "                               torchvision.transforms.Normalize(\n",
    "                                 (0.1307,), (0.3081,))\n",
    "                             ]))\n",
    "test_loader_full = torch.utils.data.DataLoader(\n",
    "  torchvision.datasets.MNIST('./data/', train=False, download=True,\n",
    "                             transform=torchvision.transforms.Compose([\n",
    "                               torchvision.transforms.ToTensor(),\n",
    "                               torchvision.transforms.Normalize(\n",
    "                                 (0.1307,), (0.3081,))\n",
    "                             ])),\n",
    "  batch_size=batch_size_test, shuffle=True)\n",
    "\n",
    "data = dataset_train.data\n",
    "data_test = dataset_test_1.data\n",
    "targets = dataset_train.targets\n",
    "targets_test = dataset_test_1.targets"
   ]
  },
  {
   "cell_type": "code",
   "execution_count": 30,
   "metadata": {},
   "outputs": [],
   "source": [
    "mask_digits_train_1 = [any(tupl) for tupl in zip(split_idx_train[5],\n",
    "                                                   split_idx_train[6],\n",
    "                                                   split_idx_train[7],\n",
    "                                                   split_idx_train[8],\n",
    "                                                   split_idx_train[9])]\n",
    "\n",
    "mask_digits_test_1 = [any(tupl) for tupl in zip(split_idx_test[5],\n",
    "                                                   split_idx_test[6],\n",
    "                                                   split_idx_test[7],\n",
    "                                                   split_idx_test[8],\n",
    "                                                   split_idx_test[9])]\n",
    "dataset_train.data = data[mask_digits_train_1]\n",
    "dataset_train.targets = targets[mask_digits_train_1]\n",
    "\n",
    "dataset_test_1.data = data_test[mask_digits_test_1]\n",
    "dataset_test_1.targets = targets_test[mask_digits_test_1]\n",
    "\n",
    "train_loader = torch.utils.data.DataLoader(\n",
    "  dataset_train,\n",
    "  batch_size=batch_size_train, shuffle=True)\n",
    "\n",
    "test_loader_1 = torch.utils.data.DataLoader(\n",
    "  dataset_test_1,\n",
    "  batch_size=batch_size_test, shuffle=True)"
   ]
  },
  {
   "cell_type": "code",
   "execution_count": 31,
   "metadata": {
    "scrolled": true
   },
   "outputs": [
    {
     "name": "stdout",
     "output_type": "stream",
     "text": [
      "Total number of parameters is: 121812\n",
      "ProgNet(\n",
      "  (columns): ModuleList(\n",
      "    (0): ModuleList(\n",
      "      (0): LateralBlock(\n",
      "        (block): Sequential(\n",
      "          (0): Linear(in_features=784, out_features=128, bias=True)\n",
      "        )\n",
      "        (u): ModuleList()\n",
      "      )\n",
      "      (1): LateralBlock(\n",
      "        (block): Sequential(\n",
      "          (2): Linear(in_features=128, out_features=64, bias=True)\n",
      "        )\n",
      "        (u): ModuleList()\n",
      "      )\n",
      "      (2): LateralBlock(\n",
      "        (block): Sequential(\n",
      "          (4): Linear(in_features=64, out_features=32, bias=True)\n",
      "        )\n",
      "        (u): ModuleList()\n",
      "      )\n",
      "      (3): LateralBlock(\n",
      "        (block): Sequential(\n",
      "          (6): Linear(in_features=32, out_features=10, bias=True)\n",
      "        )\n",
      "        (u): ModuleList()\n",
      "      )\n",
      "    )\n",
      "    (1): ModuleList(\n",
      "      (0): LateralBlock(\n",
      "        (block): Sequential(\n",
      "          (0): Linear(in_features=784, out_features=128, bias=True)\n",
      "        )\n",
      "        (u): ModuleList()\n",
      "      )\n",
      "      (1): LateralBlock(\n",
      "        (block): Sequential(\n",
      "          (1): Linear(in_features=128, out_features=64, bias=True)\n",
      "        )\n",
      "        (u): ModuleList(\n",
      "          (0): Linear(in_features=128, out_features=64, bias=True)\n",
      "        )\n",
      "      )\n",
      "      (2): LateralBlock(\n",
      "        (block): Sequential(\n",
      "          (2): Linear(in_features=64, out_features=32, bias=True)\n",
      "        )\n",
      "        (u): ModuleList(\n",
      "          (0): Linear(in_features=64, out_features=32, bias=True)\n",
      "        )\n",
      "      )\n",
      "      (3): LateralBlock(\n",
      "        (block): Sequential(\n",
      "          (3): Linear(in_features=32, out_features=10, bias=True)\n",
      "        )\n",
      "        (u): ModuleList(\n",
      "          (0): Linear(in_features=32, out_features=10, bias=True)\n",
      "        )\n",
      "      )\n",
      "    )\n",
      "  )\n",
      ")\n"
     ]
    }
   ],
   "source": [
    "prog_net.freeze_columns()\n",
    "prog_net.new_task(make_column(activated = False),shapes)\n",
    "prog_net = prog_net.to(device)\n",
    "\n",
    "params = sum(p.numel() for p in prog_net.parameters() if p.requires_grad)\n",
    "print(\"Total number of parameters is: {}\".format(params))\n",
    "print(prog_net)"
   ]
  },
  {
   "cell_type": "code",
   "execution_count": 32,
   "metadata": {},
   "outputs": [],
   "source": [
    "#Training\n",
    "learning_rate = 0.0001\n",
    "num_epochs = 10\n",
    "\n",
    "optimizer = optim.Adam(prog_net.parameters(),\n",
    "                       lr = learning_rate)\n",
    "optimizer_d = optim.Adam(dummy_net.parameters(),\n",
    "                       lr = learning_rate)\n",
    "criterion = F.cross_entropy"
   ]
  },
  {
   "cell_type": "code",
   "execution_count": 33,
   "metadata": {},
   "outputs": [
    {
     "name": "stdout",
     "output_type": "stream",
     "text": [
      "epoch [1/10], ProgNet loss:0.7560, DummyNet loss:2.4161\n",
      "epoch [2/10], ProgNet loss:0.1689, DummyNet loss:0.4021\n",
      "epoch [3/10], ProgNet loss:0.1277, DummyNet loss:0.2162\n",
      "epoch [4/10], ProgNet loss:0.1039, DummyNet loss:0.1676\n",
      "epoch [5/10], ProgNet loss:0.0880, DummyNet loss:0.1407\n",
      "epoch [6/10], ProgNet loss:0.0766, DummyNet loss:0.1223\n",
      "epoch [7/10], ProgNet loss:0.0672, DummyNet loss:0.1081\n",
      "epoch [8/10], ProgNet loss:0.0584, DummyNet loss:0.0959\n",
      "epoch [9/10], ProgNet loss:0.0520, DummyNet loss:0.0862\n",
      "epoch [10/10], ProgNet loss:0.0470, DummyNet loss:0.0784\n"
     ]
    }
   ],
   "source": [
    "prog_net.train()\n",
    "dummy_net.train()\n",
    "for epoch in range(num_epochs):\n",
    "    train_loss = 0\n",
    "    train_loss_d = 0\n",
    "    for batch_idx, data in enumerate(train_loader):\n",
    "        img, y = data\n",
    "        img = img.view(img.shape[0],-1)\n",
    "        img = img.to(device)\n",
    "        y = y.to(device)\n",
    "        optimizer.zero_grad()\n",
    "        optimizer_d.zero_grad()\n",
    "        # forward\n",
    "        y_pred = prog_net(img)\n",
    "        y_pred_d = dummy_net(img)\n",
    "        loss = criterion(y_pred, y,reduction = 'mean')\n",
    "        loss_d = criterion(y_pred_d, y,reduction = 'mean')\n",
    "        # backward\n",
    "        loss.backward()\n",
    "        loss_d.backward()\n",
    "        train_loss += loss.item()\n",
    "        train_loss_d += loss_d.item()\n",
    "        optimizer.step()\n",
    "        optimizer_d.step()\n",
    "    print('epoch [{}/{}], ProgNet loss:{:.4f}, DummyNet loss:{:.4f}'\n",
    "          .format(epoch + 1, num_epochs, train_loss / len(train_loader),train_loss_d/len(train_loader)))\n",
    "\n",
    "    train_losses.append(train_loss/ len(train_loader))\n",
    "    train_losses_d.append(train_loss_d/ len(train_loader))\n",
    "    \n",
    "    test_losses.append(model_eval(prog_net,test_loader_1,task_id = 1))\n",
    "    test_losses_d.append(model_eval(dummy_net,test_loader_1))\n",
    "    test_losses_full.append((model_eval(prog_net,test_loader_0,task_id = 0) + model_eval(prog_net,test_loader_1,task_id = 1))/2)\n",
    "    test_losses_d_full.append(model_eval(dummy_net,test_loader_full))"
   ]
  },
  {
   "cell_type": "code",
   "execution_count": 34,
   "metadata": {},
   "outputs": [
    {
     "data": {
      "image/png": "[encoded data removed]",
      "text/plain": [
       "<Figure size 432x288 with 1 Axes>"
      ]
     },
     "metadata": {
      "needs_background": "light"
     },
     "output_type": "display_data"
    }
   ],
   "source": [
    "plt.plot(list(range(0,len(train_losses))), train_losses, label='loss ProgNet')\n",
    "plt.plot(list(range(0,len(train_losses_d))), train_losses_d, label='loss DummyNet')\n",
    "plt.legend()\n",
    "plt.title('Train Loss')\n",
    "plt.show()"
   ]
  },
  {
   "cell_type": "code",
   "execution_count": 35,
   "metadata": {},
   "outputs": [
    {
     "data": {
      "image/png": "[encoded data removed]",
      "text/plain": [
       "<Figure size 432x288 with 2 Axes>"
      ]
     },
     "metadata": {
      "needs_background": "light"
     },
     "output_type": "display_data"
    }
   ],
   "source": [
    "fig, (ax1, ax2) = plt.subplots(1,2)\n",
    "\n",
    "fig.suptitle('Test Loss, Task 0: digits 0-4; Task 1: digits 5-9')\n",
    "\n",
    "ax1.plot(list(range(0,len(test_losses))), test_losses, label='loss ProgNet')\n",
    "ax1.plot(list(range(0,len(test_losses_d))), test_losses_d, label='loss DummyNet')\n",
    "ax2.plot(list(range(0,len(test_losses_full))), test_losses_full, label='loss ProgNet:full')\n",
    "ax2.plot(list(range(0,len(test_losses_d_full))), test_losses_d_full, label='loss DummyNet:full')\n",
    "ax1.set_title('Current task', y = - 0.2)\n",
    "ax2.set_title('Digits 0-9',y = - 0.2)\n",
    "ax1.legend()\n",
    "ax2.legend()\n",
    "plt.show()"
   ]
  },
  {
   "cell_type": "markdown",
   "metadata": {},
   "source": [
    "## Classification with ProgNet: random weights for U layers"
   ]
  },
  {
   "cell_type": "code",
   "execution_count": 41,
   "metadata": {},
   "outputs": [
    {
     "name": "stdout",
     "output_type": "stream",
     "text": [
      "Task 0: 0.0325\n",
      "Task 1: 0.0661\n"
     ]
    }
   ],
   "source": [
    "prog_net_random_u = copy.deepcopy(prog_net).to(device)\n",
    "print('Task 0: {:.4f}'.format(model_eval(prog_net_random_u,test_loader_0,task_id = 0)))\n",
    "print('Task 1: {:.4f}'.format(model_eval(prog_net_random_u,test_loader_1,task_id = 1)))\n"
   ]
  },
  {
   "cell_type": "code",
   "execution_count": 46,
   "metadata": {},
   "outputs": [],
   "source": [
    "for col in prog_net_random_u.columns: \n",
    "    for block in col:\n",
    "        for u in block.u: \n",
    "            torch.nn.init.xavier_uniform_(u.weight)\n"
   ]
  },
  {
   "cell_type": "code",
   "execution_count": 47,
   "metadata": {},
   "outputs": [
    {
     "name": "stdout",
     "output_type": "stream",
     "text": [
      "Task 0: 0.0316\n",
      "Task 1: 1.6379\n"
     ]
    }
   ],
   "source": [
    "print('Task 0: {:.4f}'.format(model_eval(prog_net_random_u,test_loader_0,task_id = 0)))\n",
    "print('Task 1: {:.4f}'.format(model_eval(prog_net_random_u,test_loader_1,task_id = 1)))"
   ]
  },
  {
   "cell_type": "code",
   "execution_count": null,
   "metadata": {},
   "outputs": [],
   "source": []
  }
 ],
 "metadata": {
  "kernelspec": {
   "display_name": "Python (prog-nets-env)",
   "language": "python",
   "name": "prog-nets-env"
  },
  "language_info": {
   "codemirror_mode": {
    "name": "ipython",
    "version": 3
   },
   "file_extension": ".py",
   "mimetype": "text/x-python",
   "name": "python",
   "nbconvert_exporter": "python",
   "pygments_lexer": "ipython3",
   "version": "3.6.9"
  }
 },
 "nbformat": 4,
 "nbformat_minor": 2
}
