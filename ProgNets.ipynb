{
 "cells": [
  {
   "cell_type": "code",
   "execution_count": 1,
   "metadata": {},
   "outputs": [
    {
     "name": "stderr",
     "output_type": "stream",
     "text": [
      "/home/psaint/.local/lib/python3.6/site-packages/tensorflow/python/framework/dtypes.py:516: FutureWarning: Passing (type, 1) or '1type' as a synonym of type is deprecated; in a future version of numpy, it will be understood as (type, (1,)) / '(1,)type'.\n",
      "  _np_qint8 = np.dtype([(\"qint8\", np.int8, 1)])\n",
      "/home/psaint/.local/lib/python3.6/site-packages/tensorflow/python/framework/dtypes.py:517: FutureWarning: Passing (type, 1) or '1type' as a synonym of type is deprecated; in a future version of numpy, it will be understood as (type, (1,)) / '(1,)type'.\n",
      "  _np_quint8 = np.dtype([(\"quint8\", np.uint8, 1)])\n",
      "/home/psaint/.local/lib/python3.6/site-packages/tensorflow/python/framework/dtypes.py:518: FutureWarning: Passing (type, 1) or '1type' as a synonym of type is deprecated; in a future version of numpy, it will be understood as (type, (1,)) / '(1,)type'.\n",
      "  _np_qint16 = np.dtype([(\"qint16\", np.int16, 1)])\n",
      "/home/psaint/.local/lib/python3.6/site-packages/tensorflow/python/framework/dtypes.py:519: FutureWarning: Passing (type, 1) or '1type' as a synonym of type is deprecated; in a future version of numpy, it will be understood as (type, (1,)) / '(1,)type'.\n",
      "  _np_quint16 = np.dtype([(\"quint16\", np.uint16, 1)])\n",
      "/home/psaint/.local/lib/python3.6/site-packages/tensorflow/python/framework/dtypes.py:520: FutureWarning: Passing (type, 1) or '1type' as a synonym of type is deprecated; in a future version of numpy, it will be understood as (type, (1,)) / '(1,)type'.\n",
      "  _np_qint32 = np.dtype([(\"qint32\", np.int32, 1)])\n",
      "/home/psaint/.local/lib/python3.6/site-packages/tensorflow/python/framework/dtypes.py:525: FutureWarning: Passing (type, 1) or '1type' as a synonym of type is deprecated; in a future version of numpy, it will be understood as (type, (1,)) / '(1,)type'.\n",
      "  np_resource = np.dtype([(\"resource\", np.ubyte, 1)])\n",
      "/home/psaint/.local/lib/python3.6/site-packages/tensorboard/compat/tensorflow_stub/dtypes.py:541: FutureWarning: Passing (type, 1) or '1type' as a synonym of type is deprecated; in a future version of numpy, it will be understood as (type, (1,)) / '(1,)type'.\n",
      "  _np_qint8 = np.dtype([(\"qint8\", np.int8, 1)])\n",
      "/home/psaint/.local/lib/python3.6/site-packages/tensorboard/compat/tensorflow_stub/dtypes.py:542: FutureWarning: Passing (type, 1) or '1type' as a synonym of type is deprecated; in a future version of numpy, it will be understood as (type, (1,)) / '(1,)type'.\n",
      "  _np_quint8 = np.dtype([(\"quint8\", np.uint8, 1)])\n",
      "/home/psaint/.local/lib/python3.6/site-packages/tensorboard/compat/tensorflow_stub/dtypes.py:543: FutureWarning: Passing (type, 1) or '1type' as a synonym of type is deprecated; in a future version of numpy, it will be understood as (type, (1,)) / '(1,)type'.\n",
      "  _np_qint16 = np.dtype([(\"qint16\", np.int16, 1)])\n",
      "/home/psaint/.local/lib/python3.6/site-packages/tensorboard/compat/tensorflow_stub/dtypes.py:544: FutureWarning: Passing (type, 1) or '1type' as a synonym of type is deprecated; in a future version of numpy, it will be understood as (type, (1,)) / '(1,)type'.\n",
      "  _np_quint16 = np.dtype([(\"quint16\", np.uint16, 1)])\n",
      "/home/psaint/.local/lib/python3.6/site-packages/tensorboard/compat/tensorflow_stub/dtypes.py:545: FutureWarning: Passing (type, 1) or '1type' as a synonym of type is deprecated; in a future version of numpy, it will be understood as (type, (1,)) / '(1,)type'.\n",
      "  _np_qint32 = np.dtype([(\"qint32\", np.int32, 1)])\n",
      "/home/psaint/.local/lib/python3.6/site-packages/tensorboard/compat/tensorflow_stub/dtypes.py:550: FutureWarning: Passing (type, 1) or '1type' as a synonym of type is deprecated; in a future version of numpy, it will be understood as (type, (1,)) / '(1,)type'.\n",
      "  np_resource = np.dtype([(\"resource\", np.ubyte, 1)])\n"
     ]
    }
   ],
   "source": [
    "import numpy as np\n",
    "import tensorflow as tf"
   ]
  },
  {
   "cell_type": "code",
   "execution_count": 2,
   "metadata": {},
   "outputs": [],
   "source": [
    "class FirstColumn(tf.keras.Model): \n",
    "    def __init__(self,hidden_dims,activation_fns,name = None):\n",
    "        super(FirstColumn,self).__init__(name = name)\n",
    "        \n",
    "        assert isinstance(hidden_dims,list)\n",
    "        assert isinstance(activation_fns,list)\n",
    "        assert len(hidden_dims) == len(activation_fns)\n",
    "        \n",
    "        self.columns = [[tf.keras.layers.Dense(dim, activation=fn,\n",
    "                                        name='fully_connected_' + str(i),trainable = True) for i,(dim,fn) in enumerate(zip(hidden_dims,activation_fns))]]\n",
    "        self.width = 1\n",
    "        self.depth = len(hidden_dims)\n",
    "    def call(self,x):\n",
    "        for layer in self.columns[0]: \n",
    "            x = layer(x)  \n",
    "        return x  \n",
    "    \n",
    "class ProgNet(tf.keras.Model):\n",
    "    def __init__(self,prev_net,hidden_dims,activation_fns,name=None):\n",
    "        super(ProgNet,self).__init__(name = name)\n",
    "        assert isinstance(hidden_dims,list)\n",
    "        assert isinstance(activation_fns,list)\n",
    "        assert len(hidden_dims) == len(activation_fns)\n",
    "        assert isinstance(prev_net,(ProgNet,FirstColumn))\n",
    "        \n",
    "        self.depth = len(hidden_dims)\n",
    "        self.columns = []\n",
    "        self.U = []\n",
    "        self.activation_fns = activation_fns\n",
    "        \n",
    "      \n",
    "        assert (len(prev_net.columns[-1]) == len(hidden_dims))\n",
    "        self.columns = prev_net.columns\n",
    "        self.columns.append([tf.keras.layers.Dense(dim,\n",
    "                                    name=\"fully_connected_\" + str(i),trainable = True) for i,dim in enumerate(hidden_dims)])\n",
    "        self.width = prev_net.width + 1\n",
    "        self.U = [[tf.keras.layers.Dense(dim,use_bias = False,name='U_'+str(i)+'_' + str(j),trainable = True) for i,dim in enumerate(hidden_dims)] for j in range(self.width-1)]\n",
    "            \n",
    "             \n",
    "    def call(self,x):\n",
    "        x = [x]*self.width\n",
    "        for i in range(self.depth-1):\n",
    "            x = [self.columns[j][i](x[j]) for j in range(self.width)]\n",
    "            print(self.U)\n",
    "            Uh = [self.U[j][i](x[j]) for j in range(self.width - 1)]\n",
    "            x[-1] = self.activation_fns[i](tf.add_n(Uh) + x[-1])\n",
    "        return self.columns[-1][-1](x[-1])\n",
    "          \n",
    "        "
   ]
  },
  {
   "cell_type": "code",
   "execution_count": 3,
   "metadata": {},
   "outputs": [],
   "source": [
    "#data\n",
    "size = 100\n",
    "bound = 10\n",
    "x_train = np.random.uniform(0,bound,size).reshape(size,1)\n",
    "y_train = np.floor(x_train).astype('int').reshape(size)"
   ]
  },
  {
   "cell_type": "code",
   "execution_count": 4,
   "metadata": {},
   "outputs": [
    {
     "name": "stdout",
     "output_type": "stream",
     "text": [
      "WARNING:tensorflow:From /home/psaint/.local/lib/python3.6/site-packages/tensorflow/python/ops/init_ops.py:1251: calling VarianceScaling.__init__ (from tensorflow.python.ops.init_ops) with dtype is deprecated and will be removed in a future version.\n",
      "Instructions for updating:\n",
      "Call initializer instance with the dtype argument instead of passing it to the constructor\n"
     ]
    }
   ],
   "source": [
    "hidden_dims = [64,128,64,10]\n",
    "act_fns = [tf.keras.activations.relu for i in range(4)]\n",
    "\n",
    "net1 = FirstColumn(hidden_dims,act_fns,name = 'Col1')\n",
    "net2 = ProgNet(net1,hidden_dims,act_fns,name='Col2')\n",
    "net3 = ProgNet(net2,hidden_dims,act_fns,name='Col3')"
   ]
  },
  {
   "cell_type": "code",
   "execution_count": 5,
   "metadata": {},
   "outputs": [],
   "source": [
    "x = tf.placeholder(dtype = tf.float32, shape = [None,1])\n",
    "y = tf.placeholder(dtype = tf.int32, shape = [None])"
   ]
  },
  {
   "cell_type": "code",
   "execution_count": 6,
   "metadata": {
    "collapsed": true
   },
   "outputs": [
    {
     "name": "stdout",
     "output_type": "stream",
     "text": [
      "WARNING:tensorflow:Entity <bound method FirstColumn.call of <__main__.FirstColumn object at 0x7f689232a0b8>> could not be transformed and will be executed as-is. Please report this to the AutgoGraph team. When filing the bug, set the verbosity to 10 (on Linux, `export AUTOGRAPH_VERBOSITY=10`) and attach the full output. Cause: converting <bound method FirstColumn.call of <__main__.FirstColumn object at 0x7f689232a0b8>>: AttributeError: module 'gast' has no attribute 'Num'\n",
      "WARNING: Entity <bound method FirstColumn.call of <__main__.FirstColumn object at 0x7f689232a0b8>> could not be transformed and will be executed as-is. Please report this to the AutgoGraph team. When filing the bug, set the verbosity to 10 (on Linux, `export AUTOGRAPH_VERBOSITY=10`) and attach the full output. Cause: converting <bound method FirstColumn.call of <__main__.FirstColumn object at 0x7f689232a0b8>>: AttributeError: module 'gast' has no attribute 'Num'\n",
      "WARNING:tensorflow:Entity <bound method ProgNet.call of <__main__.ProgNet object at 0x7f689232a048>> could not be transformed and will be executed as-is. Please report this to the AutgoGraph team. When filing the bug, set the verbosity to 10 (on Linux, `export AUTOGRAPH_VERBOSITY=10`) and attach the full output. Cause: converting <bound method ProgNet.call of <__main__.ProgNet object at 0x7f689232a048>>: AttributeError: module 'gast' has no attribute 'Num'\n",
      "WARNING: Entity <bound method ProgNet.call of <__main__.ProgNet object at 0x7f689232a048>> could not be transformed and will be executed as-is. Please report this to the AutgoGraph team. When filing the bug, set the verbosity to 10 (on Linux, `export AUTOGRAPH_VERBOSITY=10`) and attach the full output. Cause: converting <bound method ProgNet.call of <__main__.ProgNet object at 0x7f689232a048>>: AttributeError: module 'gast' has no attribute 'Num'\n",
      "ListWrapper([ListWrapper([<tensorflow.python.keras.layers.core.Dense object at 0x7f6892361da0>, <tensorflow.python.keras.layers.core.Dense object at 0x7f6891aeb0b8>, <tensorflow.python.keras.layers.core.Dense object at 0x7f6891aeb390>, <tensorflow.python.keras.layers.core.Dense object at 0x7f6891aeb630>])])\n",
      "ListWrapper([ListWrapper([<tensorflow.python.keras.layers.core.Dense object at 0x7f6892361da0>, <tensorflow.python.keras.layers.core.Dense object at 0x7f6891aeb0b8>, <tensorflow.python.keras.layers.core.Dense object at 0x7f6891aeb390>, <tensorflow.python.keras.layers.core.Dense object at 0x7f6891aeb630>])])\n",
      "ListWrapper([ListWrapper([<tensorflow.python.keras.layers.core.Dense object at 0x7f6892361da0>, <tensorflow.python.keras.layers.core.Dense object at 0x7f6891aeb0b8>, <tensorflow.python.keras.layers.core.Dense object at 0x7f6891aeb390>, <tensorflow.python.keras.layers.core.Dense object at 0x7f6891aeb630>])])\n",
      "WARNING:tensorflow:Entity <bound method ProgNet.call of <__main__.ProgNet object at 0x7f689232af98>> could not be transformed and will be executed as-is. Please report this to the AutgoGraph team. When filing the bug, set the verbosity to 10 (on Linux, `export AUTOGRAPH_VERBOSITY=10`) and attach the full output. Cause: converting <bound method ProgNet.call of <__main__.ProgNet object at 0x7f689232af98>>: AttributeError: module 'gast' has no attribute 'Num'\n",
      "WARNING: Entity <bound method ProgNet.call of <__main__.ProgNet object at 0x7f689232af98>> could not be transformed and will be executed as-is. Please report this to the AutgoGraph team. When filing the bug, set the verbosity to 10 (on Linux, `export AUTOGRAPH_VERBOSITY=10`) and attach the full output. Cause: converting <bound method ProgNet.call of <__main__.ProgNet object at 0x7f689232af98>>: AttributeError: module 'gast' has no attribute 'Num'\n",
      "ListWrapper([ListWrapper([<tensorflow.python.keras.layers.core.Dense object at 0x7f6891af3710>, <tensorflow.python.keras.layers.core.Dense object at 0x7f6891af39e8>, <tensorflow.python.keras.layers.core.Dense object at 0x7f6891af3cc0>, <tensorflow.python.keras.layers.core.Dense object at 0x7f6891af3f98>]), ListWrapper([<tensorflow.python.keras.layers.core.Dense object at 0x7f6891afa2b0>, <tensorflow.python.keras.layers.core.Dense object at 0x7f6891afa588>, <tensorflow.python.keras.layers.core.Dense object at 0x7f6891afa860>, <tensorflow.python.keras.layers.core.Dense object at 0x7f6891afab38>])])\n",
      "ListWrapper([ListWrapper([<tensorflow.python.keras.layers.core.Dense object at 0x7f6891af3710>, <tensorflow.python.keras.layers.core.Dense object at 0x7f6891af39e8>, <tensorflow.python.keras.layers.core.Dense object at 0x7f6891af3cc0>, <tensorflow.python.keras.layers.core.Dense object at 0x7f6891af3f98>]), ListWrapper([<tensorflow.python.keras.layers.core.Dense object at 0x7f6891afa2b0>, <tensorflow.python.keras.layers.core.Dense object at 0x7f6891afa588>, <tensorflow.python.keras.layers.core.Dense object at 0x7f6891afa860>, <tensorflow.python.keras.layers.core.Dense object at 0x7f6891afab38>])])\n",
      "ListWrapper([ListWrapper([<tensorflow.python.keras.layers.core.Dense object at 0x7f6891af3710>, <tensorflow.python.keras.layers.core.Dense object at 0x7f6891af39e8>, <tensorflow.python.keras.layers.core.Dense object at 0x7f6891af3cc0>, <tensorflow.python.keras.layers.core.Dense object at 0x7f6891af3f98>]), ListWrapper([<tensorflow.python.keras.layers.core.Dense object at 0x7f6891afa2b0>, <tensorflow.python.keras.layers.core.Dense object at 0x7f6891afa588>, <tensorflow.python.keras.layers.core.Dense object at 0x7f6891afa860>, <tensorflow.python.keras.layers.core.Dense object at 0x7f6891afab38>])])\n"
     ]
    }
   ],
   "source": [
    "loss1 = tf.reduce_mean(tf.nn.sparse_softmax_cross_entropy_with_logits(labels = y, \n",
    "                                                                    logits = net1(x)))\n",
    "loss2 = tf.reduce_mean(tf.nn.sparse_softmax_cross_entropy_with_logits(labels = y, \n",
    "                                                                    logits = net2(x)))\n",
    "loss3 = tf.reduce_mean(tf.nn.sparse_softmax_cross_entropy_with_logits(labels = y, \n",
    "                                                                    logits = net3(x)))\n",
    "\n",
    "train_vars1 = tf.get_collection(tf.GraphKeys.TRAINABLE_VARIABLES,\n",
    "                                     \"Col1\")\n",
    "train_vars2 = tf.get_collection(tf.GraphKeys.TRAINABLE_VARIABLES,\n",
    "                                     \"Col2\")\n",
    "\n",
    "train_vars3 = tf.get_collection(tf.GraphKeys.TRAINABLE_VARIABLES,\n",
    "                                      \"Col3\")\n",
    "# Define an optimizer \n",
    "train_op1 = tf.train.AdamOptimizer(learning_rate=0.01).minimize(loss1,var_list = train_vars1)\n",
    "train_op2 = tf.train.AdamOptimizer(learning_rate=0.01).minimize(loss2,var_list = train_vars2)\n",
    "train_op3 = tf.train.AdamOptimizer(learning_rate=0.01).minimize(loss3,var_list = train_vars3)"
   ]
  },
  {
   "cell_type": "code",
   "execution_count": 7,
   "metadata": {},
   "outputs": [],
   "source": [
    "with tf.Session() as sess: \n",
    "    writer = tf.summary.FileWriter('logs', sess.graph)\n",
    "    sess.run(tf.global_variables_initializer())\n",
    "    sess.run(train_op1,feed_dict={x:x_train,y:y_train})\n",
    "    sess.run(train_op2,feed_dict={x:x_train,y:y_train})\n",
    "    sess.run(train_op3,feed_dict={x:x_train,y:y_train})\n",
    "    writer.close()"
   ]
  },
  {
   "cell_type": "code",
   "execution_count": null,
   "metadata": {},
   "outputs": [],
   "source": []
  }
 ],
 "metadata": {
  "kernelspec": {
   "display_name": "Python (prog-nets-env)",
   "language": "python",
   "name": "prog-nets-env"
  },
  "language_info": {
   "codemirror_mode": {
    "name": "ipython",
    "version": 3
   },
   "file_extension": ".py",
   "mimetype": "text/x-python",
   "name": "python",
   "nbconvert_exporter": "python",
   "pygments_lexer": "ipython3",
   "version": "3.6.9"
  }
 },
 "nbformat": 4,
 "nbformat_minor": 2
}
