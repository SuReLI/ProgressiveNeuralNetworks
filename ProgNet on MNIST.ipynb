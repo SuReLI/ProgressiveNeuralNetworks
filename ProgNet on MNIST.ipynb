{
 "cells": [
  {
   "cell_type": "code",
   "execution_count": 18,
   "metadata": {},
   "outputs": [],
   "source": [
    "import copy\n",
    "import numpy as np\n",
    "import matplotlib.pyplot as plt\n",
    "from tqdm import tqdm\n",
    "%matplotlib inline\n",
    "plt.rcParams['figure.figsize'] = [10, 5]\n",
    "\n",
    "from prognet import *\n",
    "from utils import *"
   ]
  },
  {
   "cell_type": "code",
   "execution_count": 19,
   "metadata": {},
   "outputs": [
    {
     "name": "stdout",
     "output_type": "stream",
     "text": [
      "cuda:0\n"
     ]
    }
   ],
   "source": [
    "GPU = True\n",
    "device_idx = 0\n",
    "if GPU:\n",
    "    device = torch.device(\"cuda:\" + str(device_idx) if torch.cuda.is_available() else \"cpu\")\n",
    "else:\n",
    "    device = torch.device(\"cpu\")\n",
    "print(device)"
   ]
  },
  {
   "cell_type": "markdown",
   "metadata": {},
   "source": [
    "# MNIST Classification"
   ]
  },
  {
   "cell_type": "code",
   "execution_count": 20,
   "metadata": {},
   "outputs": [],
   "source": [
    "def make_column(activated = True): \n",
    "    if activated: \n",
    "        model = nn.Sequential(nn.Linear(28*28*1,128),\n",
    "                      nn.ReLU(),\n",
    "                      nn.Linear(128,64),\n",
    "                      nn.ReLU(), \n",
    "                      nn.Linear(64,32),\n",
    "                      nn.ReLU(),\n",
    "                      nn.Linear(32,10))\n",
    "    else: \n",
    "        model = nn.Sequential(nn.Linear(28*28*1,128),\n",
    "                      #nn.ReLU(),\n",
    "                      nn.Linear(128,64),\n",
    "                      #nn.ReLU(), \n",
    "                      nn.Linear(64,32),\n",
    "                      #nn.ReLU(),\n",
    "                      nn.Linear(32,10))\n",
    "    return model\n",
    "shapes_activated = [128,128,64,64,32,32,10]\n",
    "shapes = [128,64,32,10]\n"
   ]
  },
  {
   "cell_type": "code",
   "execution_count": 21,
   "metadata": {
    "scrolled": true
   },
   "outputs": [
    {
     "name": "stdout",
     "output_type": "stream",
     "text": [
      "Total number of parameters is: 111146\n",
      "ProgNet(\n",
      "  (columns): ModuleList(\n",
      "    (0): ModuleList(\n",
      "      (0): LateralBlock(\n",
      "        (block): Sequential(\n",
      "          (0): Linear(in_features=784, out_features=128, bias=True)\n",
      "        )\n",
      "        (u): ModuleList()\n",
      "      )\n",
      "      (1): LateralBlock(\n",
      "        (block): Sequential(\n",
      "          (2): Linear(in_features=128, out_features=64, bias=True)\n",
      "        )\n",
      "        (u): ModuleList()\n",
      "      )\n",
      "      (2): LateralBlock(\n",
      "        (block): Sequential(\n",
      "          (4): Linear(in_features=64, out_features=32, bias=True)\n",
      "        )\n",
      "        (u): ModuleList()\n",
      "      )\n",
      "      (3): LateralBlock(\n",
      "        (block): Sequential(\n",
      "          (6): Linear(in_features=32, out_features=10, bias=True)\n",
      "        )\n",
      "        (u): ModuleList()\n",
      "      )\n",
      "    )\n",
      "  )\n",
      ")\n"
     ]
    }
   ],
   "source": [
    "prog_net = ProgNet(depth = 3)\n",
    "dummy_net = make_column(activated = True).to(device)\n",
    "prog_net.new_task(copy.deepcopy(dummy_net)[0:7:2],shapes)\n",
    "prog_net = prog_net.to(device)\n",
    "\n",
    "\n",
    "params = sum(p.numel() for p in prog_net.parameters() if p.requires_grad)\n",
    "print(\"Total number of parameters is: {}\".format(params))\n",
    "print(prog_net)"
   ]
  },
  {
   "cell_type": "code",
   "execution_count": 22,
   "metadata": {},
   "outputs": [],
   "source": [
    "digits_0 = [0,1,2,3,4]\n",
    "digits_1 = [5,6,7,8,9]\n",
    "digits_full = list(range(10))\n",
    "\n",
    "train_batch_size = 64\n",
    "test_batch_size = 1000\n",
    "\n",
    "train_loader_0 = dataloader_MNIST(folder = './data',\n",
    "                                batch_size = train_batch_size,\n",
    "                                train = True, \n",
    "                                digits = digits_0)\n",
    "test_loader_0 = dataloader_MNIST(folder = './data',\n",
    "                                batch_size = test_batch_size,\n",
    "                                train = False, \n",
    "                                digits = digits_0)\n",
    "\n",
    "train_loader_1 = dataloader_MNIST(folder = './data',\n",
    "                                batch_size = train_batch_size,\n",
    "                                train = True, \n",
    "                                digits = digits_1)\n",
    "test_loader_1 = dataloader_MNIST(folder = './data',\n",
    "                                batch_size = test_batch_size,\n",
    "                                train = False, \n",
    "                                digits = digits_1)\n",
    "\n",
    "test_loader_full = dataloader_MNIST(folder = './data',\n",
    "                                batch_size = test_batch_size,\n",
    "                                train = False, \n",
    "                                digits = digits_full)"
   ]
  },
  {
   "cell_type": "markdown",
   "metadata": {},
   "source": [
    "### Training phase  1 \n",
    "Column 0, digits 0 to 4"
   ]
  },
  {
   "cell_type": "code",
   "execution_count": 23,
   "metadata": {},
   "outputs": [],
   "source": [
    "#Training parameters\n",
    "learning_rate = 0.0001\n",
    "num_epochs = 10\n",
    "\n",
    "optimizer = optim.Adam(prog_net.parameters(),\n",
    "                       lr = learning_rate)\n",
    "optimizer_d = optim.Adam(dummy_net.parameters(),\n",
    "                       lr = learning_rate)\n",
    "criterion = F.cross_entropy"
   ]
  },
  {
   "cell_type": "code",
   "execution_count": 24,
   "metadata": {},
   "outputs": [
    {
     "name": "stderr",
     "output_type": "stream",
     "text": [
      "\n",
      "  0%|          | 0/10 [00:00<?, ?it/s]\u001b[A\n",
      " 10%|█         | 1/10 [00:16<02:26, 16.22s/it]\u001b[A\n",
      " 20%|██        | 2/10 [00:31<02:07, 15.91s/it]\u001b[A\n",
      " 30%|███       | 3/10 [00:50<01:59, 17.00s/it]\u001b[A\n",
      " 40%|████      | 4/10 [01:12<01:49, 18.31s/it]\u001b[A\n",
      " 50%|█████     | 5/10 [01:32<01:34, 18.96s/it]\u001b[A\n",
      " 60%|██████    | 6/10 [01:52<01:16, 19.17s/it]\u001b[A\n",
      " 70%|███████   | 7/10 [02:10<00:56, 18.93s/it]\u001b[A\n",
      " 80%|████████  | 8/10 [02:31<00:38, 19.34s/it]\u001b[A\n",
      " 90%|█████████ | 9/10 [02:51<00:19, 19.53s/it]\u001b[A\n",
      "100%|██████████| 10/10 [03:10<00:00, 19.09s/it]\u001b[A\n"
     ]
    }
   ],
   "source": [
    "train_loss_pn = []\n",
    "test_loss_pn_full = []\n",
    "test_loss_pn_0 = []\n",
    "test_loss_pn_1 = []\n",
    "\n",
    "train_loss_d = []\n",
    "test_loss_d_full = []\n",
    "test_loss_d_0 = []\n",
    "test_loss_d_1 = []\n",
    "\n",
    "for epoch in tqdm(range(num_epochs)):\n",
    "    #update prog_net\n",
    "    train_loss_pn.append(train(model = prog_net,\n",
    "                           dataloader = train_loader_0,\n",
    "                           criterion = criterion, \n",
    "                           optimizer = optimizer, \n",
    "                           device = device))\n",
    "    \n",
    "    test_loss_pn_full.append(model_eval(model = prog_net,\n",
    "                               dataloader = test_loader_full, \n",
    "                               criterion = criterion,\n",
    "                               device = device))\n",
    "    test_loss_pn_0.append(model_eval(model = prog_net,\n",
    "                               dataloader = test_loader_0, \n",
    "                               criterion = criterion,\n",
    "                               device = device))\n",
    "    test_loss_pn_1.append(model_eval(model = prog_net,\n",
    "                               dataloader = test_loader_1, \n",
    "                               criterion = criterion,\n",
    "                               device = device))\n",
    "    #update dummy_net\n",
    "    train_loss_d.append(train(model = dummy_net,\n",
    "                           dataloader = train_loader_0,\n",
    "                           criterion = criterion, \n",
    "                           optimizer = optimizer_d, \n",
    "                           device = device))\n",
    "    \n",
    "    test_loss_d_full.append(model_eval(model = dummy_net,\n",
    "                               dataloader = test_loader_full, \n",
    "                               criterion = criterion,\n",
    "                               device = device))\n",
    "    test_loss_d_0.append(model_eval(model = dummy_net,\n",
    "                               dataloader = test_loader_0, \n",
    "                               criterion = criterion,\n",
    "                               device = device))\n",
    "    test_loss_d_1.append(model_eval(model = dummy_net,\n",
    "                               dataloader = test_loader_1, \n",
    "                               criterion = criterion,\n",
    "                               device = device))"
   ]
  },
  {
   "cell_type": "code",
   "execution_count": 25,
   "metadata": {},
   "outputs": [
    {
     "data": {
      "image/png": "[encoded data removed]",
      "text/plain": [
       "<Figure size 1080x360 with 2 Axes>"
      ]
     },
     "metadata": {
      "needs_background": "light"
     },
     "output_type": "display_data"
    }
   ],
   "source": [
    "fig, (ax1, ax2) = plt.subplots(1,2,figsize = (15,5))\n",
    "\n",
    "fig.suptitle('ProgNet Tasks 0 - 1')\n",
    "\n",
    "ax1.plot(list(range(0,len(train_loss_pn))), train_loss_pn, label='loss ProgNet')\n",
    "ax2.plot(list(range(0,len(test_loss_pn_full))), test_loss_pn_full, label='loss ProgNet:full')\n",
    "ax2.plot(list(range(0,len(test_loss_pn_0))), test_loss_pn_0, label='loss ProgNet:0-4')\n",
    "ax2.plot(list(range(0,len(test_loss_pn_1))), test_loss_pn_1, label='loss ProgNet:5-9')\n",
    "\n",
    "ax1.legend()\n",
    "ax2.legend()\n",
    "plt.show()"
   ]
  },
  {
   "cell_type": "code",
   "execution_count": 26,
   "metadata": {},
   "outputs": [
    {
     "data": {
      "image/png": "[encoded data removed]",
      "text/plain": [
       "<Figure size 1080x360 with 2 Axes>"
      ]
     },
     "metadata": {
      "needs_background": "light"
     },
     "output_type": "display_data"
    }
   ],
   "source": [
    "fig, (ax1, ax2) = plt.subplots(1,2,figsize = (15,5))\n",
    "\n",
    "fig.suptitle('DummyNet Tasks 0 - 1')\n",
    "\n",
    "ax1.plot(list(range(0,len(train_loss_d))), train_loss_d, label='loss DummyNet')\n",
    "ax2.plot(list(range(0,len(test_loss_d_full))), test_loss_d_full, label='loss DummyNet:full')\n",
    "ax2.plot(list(range(0,len(test_loss_d_0))), test_loss_d_0, label='loss DummyNet:0-4')\n",
    "ax2.plot(list(range(0,len(test_loss_d_1))), test_loss_d_1, label='loss DummyNet:5-9')\n",
    "ax1.legend()\n",
    "ax2.legend()\n",
    "plt.show()"
   ]
  },
  {
   "cell_type": "markdown",
   "metadata": {},
   "source": [
    "### Training Phase 2\n",
    "Column 1, digits 5 to 9"
   ]
  },
  {
   "cell_type": "code",
   "execution_count": 27,
   "metadata": {
    "scrolled": true
   },
   "outputs": [
    {
     "name": "stdout",
     "output_type": "stream",
     "text": [
      "Total number of parameters is: 121812\n",
      "ProgNet(\n",
      "  (columns): ModuleList(\n",
      "    (0): ModuleList(\n",
      "      (0): LateralBlock(\n",
      "        (block): Sequential(\n",
      "          (0): Linear(in_features=784, out_features=128, bias=True)\n",
      "        )\n",
      "        (u): ModuleList()\n",
      "      )\n",
      "      (1): LateralBlock(\n",
      "        (block): Sequential(\n",
      "          (2): Linear(in_features=128, out_features=64, bias=True)\n",
      "        )\n",
      "        (u): ModuleList()\n",
      "      )\n",
      "      (2): LateralBlock(\n",
      "        (block): Sequential(\n",
      "          (4): Linear(in_features=64, out_features=32, bias=True)\n",
      "        )\n",
      "        (u): ModuleList()\n",
      "      )\n",
      "      (3): LateralBlock(\n",
      "        (block): Sequential(\n",
      "          (6): Linear(in_features=32, out_features=10, bias=True)\n",
      "        )\n",
      "        (u): ModuleList()\n",
      "      )\n",
      "    )\n",
      "    (1): ModuleList(\n",
      "      (0): LateralBlock(\n",
      "        (block): Sequential(\n",
      "          (0): Linear(in_features=784, out_features=128, bias=True)\n",
      "        )\n",
      "        (u): ModuleList()\n",
      "      )\n",
      "      (1): LateralBlock(\n",
      "        (block): Sequential(\n",
      "          (1): Linear(in_features=128, out_features=64, bias=True)\n",
      "        )\n",
      "        (u): ModuleList(\n",
      "          (0): Linear(in_features=128, out_features=64, bias=True)\n",
      "        )\n",
      "      )\n",
      "      (2): LateralBlock(\n",
      "        (block): Sequential(\n",
      "          (2): Linear(in_features=64, out_features=32, bias=True)\n",
      "        )\n",
      "        (u): ModuleList(\n",
      "          (0): Linear(in_features=64, out_features=32, bias=True)\n",
      "        )\n",
      "      )\n",
      "      (3): LateralBlock(\n",
      "        (block): Sequential(\n",
      "          (3): Linear(in_features=32, out_features=10, bias=True)\n",
      "        )\n",
      "        (u): ModuleList(\n",
      "          (0): Linear(in_features=32, out_features=10, bias=True)\n",
      "        )\n",
      "      )\n",
      "    )\n",
      "  )\n",
      ")\n"
     ]
    }
   ],
   "source": [
    "prog_net.freeze_columns()\n",
    "prog_net.new_task(make_column(activated = False),shapes)\n",
    "prog_net = prog_net.to(device)\n",
    "\n",
    "params = sum(p.numel() for p in prog_net.parameters() if p.requires_grad)\n",
    "print(\"Total number of parameters is: {}\".format(params))\n",
    "print(prog_net)"
   ]
  },
  {
   "cell_type": "code",
   "execution_count": 28,
   "metadata": {},
   "outputs": [],
   "source": [
    "#Training\n",
    "learning_rate = 0.0001\n",
    "num_epochs = 10\n",
    "\n",
    "optimizer = optim.Adam(prog_net.parameters(),\n",
    "                       lr = learning_rate)\n",
    "optimizer_d = optim.Adam(dummy_net.parameters(),\n",
    "                       lr = learning_rate)\n",
    "criterion = F.cross_entropy"
   ]
  },
  {
   "cell_type": "code",
   "execution_count": null,
   "metadata": {},
   "outputs": [
    {
     "name": "stderr",
     "output_type": "stream",
     "text": [
      "\n",
      "  0%|          | 0/10 [00:00<?, ?it/s]\u001b[A\n",
      " 10%|█         | 1/10 [00:20<03:03, 20.44s/it]\u001b[A\n",
      " 20%|██        | 2/10 [00:40<02:41, 20.24s/it]\u001b[A\n",
      " 30%|███       | 3/10 [01:00<02:22, 20.30s/it]\u001b[A\n",
      " 40%|████      | 4/10 [01:16<01:52, 18.81s/it]\u001b[A\n",
      " 50%|█████     | 5/10 [01:32<01:31, 18.25s/it]\u001b[A\n",
      " 60%|██████    | 6/10 [01:53<01:15, 18.83s/it]\u001b[A\n",
      " 70%|███████   | 7/10 [02:13<00:57, 19.15s/it]\u001b[A"
     ]
    }
   ],
   "source": [
    "for epoch in tqdm(range(num_epochs)):\n",
    "    #update prog_net\n",
    "    train_loss_pn.append(train(model = prog_net,\n",
    "                           dataloader = train_loader_1,\n",
    "                           criterion = criterion, \n",
    "                           optimizer = optimizer, \n",
    "                           device = device))\n",
    "    \n",
    "    test_loss_pn_full.append(model_eval(model = prog_net,\n",
    "                               dataloader = test_loader_full, \n",
    "                               criterion = criterion,\n",
    "                               device = device))\n",
    "    test_loss_pn_0.append(model_eval(model = prog_net,\n",
    "                               dataloader = test_loader_0, \n",
    "                               criterion = criterion,\n",
    "                               device = device,\n",
    "                               task_id = 0))\n",
    "    test_loss_pn_1.append(model_eval(model = prog_net,\n",
    "                               dataloader = test_loader_1, \n",
    "                               criterion = criterion,\n",
    "                               device = device))\n",
    "    #update dummy_net\n",
    "    train_loss_d.append(train(model = dummy_net,\n",
    "                           dataloader = train_loader_1,\n",
    "                           criterion = criterion, \n",
    "                           optimizer = optimizer_d, \n",
    "                           device = device))\n",
    "    \n",
    "    test_loss_d_full.append(model_eval(model = dummy_net,\n",
    "                               dataloader = test_loader_full, \n",
    "                               criterion = criterion,\n",
    "                               device = device))\n",
    "    test_loss_d_0.append(model_eval(model = dummy_net,\n",
    "                               dataloader = test_loader_0, \n",
    "                               criterion = criterion,\n",
    "                               device = device))\n",
    "    test_loss_d_1.append(model_eval(model = dummy_net,\n",
    "                               dataloader = test_loader_1, \n",
    "                               criterion = criterion,\n",
    "                               device = device))"
   ]
  },
  {
   "cell_type": "code",
   "execution_count": null,
   "metadata": {},
   "outputs": [],
   "source": [
    "fig, (ax1, ax2) = plt.subplots(1,2,figsize = (15,5))\n",
    "\n",
    "fig.suptitle('ProgNet Tasks 0 - 1')\n",
    "\n",
    "ax1.plot(list(range(0,len(train_loss_pn))), train_loss_pn, label='loss ProgNet')\n",
    "ax2.plot(list(range(0,len(test_loss_pn_full))), test_loss_pn_full, label='loss ProgNet:full')\n",
    "ax2.plot(list(range(0,len(test_loss_pn_0))), test_loss_pn_0, label='loss ProgNet:0-4')\n",
    "ax2.plot(list(range(0,len(test_loss_pn_1))), test_loss_pn_1, label='loss ProgNet:5-9')\n",
    "\n",
    "ax1.legend()\n",
    "ax2.legend()\n",
    "plt.show()\n"
   ]
  },
  {
   "cell_type": "code",
   "execution_count": null,
   "metadata": {},
   "outputs": [],
   "source": [
    "fig, (ax1, ax2) = plt.subplots(1,2,figsize = (15,5))\n",
    "\n",
    "fig.suptitle('DummyNet Tasks 0 - 1')\n",
    "\n",
    "ax1.plot(list(range(0,len(train_loss_d))), train_loss_d, label='loss DummyNet')\n",
    "ax2.plot(list(range(0,len(test_loss_d_full))), test_loss_d_full, label='loss DummyNet:full')\n",
    "ax2.plot(list(range(0,len(test_loss_d_0))), test_loss_d_0, label='loss DummyNet:0-4')\n",
    "ax2.plot(list(range(0,len(test_loss_d_1))), test_loss_d_1, label='loss DummyNet:5-9')\n",
    "ax1.legend()\n",
    "ax2.legend()\n",
    "plt.show()\n"
   ]
  },
  {
   "cell_type": "code",
   "execution_count": null,
   "metadata": {},
   "outputs": [],
   "source": [
    "\n",
    "plt.plot(list(range(0,len(train_loss_d))), train_loss_d, label='loss DummyNet')\n",
    "plt.plot(list(range(0,len(train_loss_pn))), train_loss_pn, label='loss ProgNet')\n",
    "plt.title('Train loss')\n",
    "plt.legend()\n",
    "plt.show()"
   ]
  },
  {
   "cell_type": "markdown",
   "metadata": {},
   "source": [
    "## Classification with ProgNet: random weights for column 0"
   ]
  },
  {
   "cell_type": "code",
   "execution_count": null,
   "metadata": {},
   "outputs": [],
   "source": [
    "prog_net_random = copy.deepcopy(prog_net).to(device)\n",
    "\n",
    "#for params in prog_net_random.columns[0].parameters(): \n",
    "    \n"
   ]
  },
  {
   "cell_type": "code",
   "execution_count": null,
   "metadata": {},
   "outputs": [],
   "source": [
    "net = nn.Sequential(\n",
    "        nn.Conv2d(1,4,3,stride = 1, padding = 1), #out: (B,4,28,28)\n",
    "        nn.ReLU(), \n",
    "        nn.BatchNorm2d(4),\n",
    "        nn.MaxPool2d(2,stride = 2), #out: (B,4,14,14)\n",
    "        nn.Conv2d(4,16,3,stride = 1, padding = 1), #out: (B,16,14,14)\n",
    "        nn.ReLU(), \n",
    "        nn.BatchNorm2d(16),\n",
    "        nn.MaxPool2d(2,stride = 2), #out: (B,16,7,7)\n",
    "        nn.Conv2d(16,32,3,stride = 1, padding = 1), #out: (B,32,7,7)\n",
    "        nn.ReLU(), \n",
    "        nn.BatchNorm2d(32),\n",
    "        nn.MaxPool2d(2,stride = 2), #out: (B,32,3,3)\n",
    "        nn.Flatten(),\n",
    "        nn.Linear(in_features = 32*3*3,out_features = 128),\n",
    "        nn.ReLU(),\n",
    "        nn.Dropout(),\n",
    "        nn.Linear(in_features = 128, out_features = 64), \n",
    "        nn.ReLU(),\n",
    "        nn.Dropout(),\n",
    "        nn.Linear(in_features = 64, out_features = 10))\n",
    "\n",
    "shapes = [(4,28,28),\n",
    "          (4,28,28),\n",
    "          (4,28,28),\n",
    "          (4,14,14),\n",
    "          (16,14,14),\n",
    "          (16,14,14),\n",
    "          (16,14,14),\n",
    "          (16,7,7),\n",
    "          (32,7,7),\n",
    "          (32,7,7),\n",
    "          (32,7,7),\n",
    "          (32,3,3),\n",
    "          (128),\n",
    "          (64),\n",
    "          (10)]"
   ]
  },
  {
   "cell_type": "code",
   "execution_count": null,
   "metadata": {},
   "outputs": [],
   "source": []
  }
 ],
 "metadata": {
  "kernelspec": {
   "display_name": "Python (prog-nets-env)",
   "language": "python",
   "name": "prog-nets-env"
  },
  "language_info": {
   "codemirror_mode": {
    "name": "ipython",
    "version": 3
   },
   "file_extension": ".py",
   "mimetype": "text/x-python",
   "name": "python",
   "nbconvert_exporter": "python",
   "pygments_lexer": "ipython3",
   "version": "3.6.9"
  }
 },
 "nbformat": 4,
 "nbformat_minor": 2
}
